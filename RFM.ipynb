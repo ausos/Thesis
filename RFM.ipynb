{
 "cells": [
  {
   "cell_type": "code",
   "execution_count": 1,
   "metadata": {},
   "outputs": [],
   "source": [
    "import data_base as db\n",
    "import pandas as pd\n",
    "import numpy as np\n",
    "import seaborn as sns\n",
    "from matplotlib import pyplot as plt\n",
    "from collections import Counter\n",
    "from datetime import datetime\n",
    "import time\n",
    "from scipy import stats"
   ]
  },
  {
   "cell_type": "markdown",
   "metadata": {},
   "source": [
    "# Сегментация клиентов (RFM-анализ)"
   ]
  },
  {
   "cell_type": "code",
   "execution_count": 2,
   "metadata": {},
   "outputs": [
    {
     "name": "stdout",
     "output_type": "stream",
     "text": [
      "Database opened successfully\n"
     ]
    }
   ],
   "source": [
    "#recency дней с последней покупки\n",
    "#frequency общее количество транзакций (чеков)\n",
    "#monetary средняя величина чека\n",
    "connection, cursor = db.connect_db()\n",
    "cursor.execute('''\n",
    "SELECT \n",
    "    customer_id,\n",
    "    MIN (TIMESTAMP '2020-03-01' - check_date) recency,\n",
    "    COUNT (check_id )frequency,\n",
    "    AVG (before_discount_amt) monetary\n",
    "FROM bills\n",
    "WHERE after_discount_amt > 0\n",
    "GROUP BY 1\n",
    "    \n",
    "''')\n",
    "result = cursor.fetchall()\n",
    "db.close_connection(connection, cursor)\n",
    "RFM = pd.DataFrame(result, columns = ['customer_id',\n",
    "                                      'recency',\n",
    "                                      'frequency',\n",
    "                                      'monetary'])\n",
    "RFM['recency'] = pd.to_numeric(RFM['recency'].dt.days, downcast='integer')"
   ]
  },
  {
   "cell_type": "code",
   "execution_count": 7,
   "metadata": {},
   "outputs": [
    {
     "data": {
      "text/html": [
       "<div>\n",
       "<style scoped>\n",
       "    .dataframe tbody tr th:only-of-type {\n",
       "        vertical-align: middle;\n",
       "    }\n",
       "\n",
       "    .dataframe tbody tr th {\n",
       "        vertical-align: top;\n",
       "    }\n",
       "\n",
       "    .dataframe thead th {\n",
       "        text-align: right;\n",
       "    }\n",
       "</style>\n",
       "<table border=\"1\" class=\"dataframe\">\n",
       "  <thead>\n",
       "    <tr style=\"text-align: right;\">\n",
       "      <th></th>\n",
       "      <th>recency</th>\n",
       "      <th>frequency</th>\n",
       "      <th>monetary</th>\n",
       "    </tr>\n",
       "  </thead>\n",
       "  <tbody>\n",
       "    <tr>\n",
       "      <th>0</th>\n",
       "      <td>46</td>\n",
       "      <td>1</td>\n",
       "      <td>478.299988</td>\n",
       "    </tr>\n",
       "    <tr>\n",
       "      <th>1</th>\n",
       "      <td>28</td>\n",
       "      <td>17</td>\n",
       "      <td>408.058824</td>\n",
       "    </tr>\n",
       "    <tr>\n",
       "      <th>2</th>\n",
       "      <td>8</td>\n",
       "      <td>33</td>\n",
       "      <td>474.072727</td>\n",
       "    </tr>\n",
       "    <tr>\n",
       "      <th>3</th>\n",
       "      <td>16</td>\n",
       "      <td>8</td>\n",
       "      <td>76.250000</td>\n",
       "    </tr>\n",
       "    <tr>\n",
       "      <th>4</th>\n",
       "      <td>10</td>\n",
       "      <td>21</td>\n",
       "      <td>332.142857</td>\n",
       "    </tr>\n",
       "    <tr>\n",
       "      <th>...</th>\n",
       "      <td>...</td>\n",
       "      <td>...</td>\n",
       "      <td>...</td>\n",
       "    </tr>\n",
       "    <tr>\n",
       "      <th>520221</th>\n",
       "      <td>46</td>\n",
       "      <td>11</td>\n",
       "      <td>229.800000</td>\n",
       "    </tr>\n",
       "    <tr>\n",
       "      <th>520222</th>\n",
       "      <td>9</td>\n",
       "      <td>7</td>\n",
       "      <td>152.285714</td>\n",
       "    </tr>\n",
       "    <tr>\n",
       "      <th>520223</th>\n",
       "      <td>57</td>\n",
       "      <td>2</td>\n",
       "      <td>54.950001</td>\n",
       "    </tr>\n",
       "    <tr>\n",
       "      <th>520224</th>\n",
       "      <td>91</td>\n",
       "      <td>18</td>\n",
       "      <td>222.744443</td>\n",
       "    </tr>\n",
       "    <tr>\n",
       "      <th>520225</th>\n",
       "      <td>90</td>\n",
       "      <td>6</td>\n",
       "      <td>155.916667</td>\n",
       "    </tr>\n",
       "  </tbody>\n",
       "</table>\n",
       "<p>520226 rows × 3 columns</p>\n",
       "</div>"
      ],
      "text/plain": [
       "        recency  frequency    monetary\n",
       "0            46          1  478.299988\n",
       "1            28         17  408.058824\n",
       "2             8         33  474.072727\n",
       "3            16          8   76.250000\n",
       "4            10         21  332.142857\n",
       "...         ...        ...         ...\n",
       "520221       46         11  229.800000\n",
       "520222        9          7  152.285714\n",
       "520223       57          2   54.950001\n",
       "520224       91         18  222.744443\n",
       "520225       90          6  155.916667\n",
       "\n",
       "[520226 rows x 3 columns]"
      ]
     },
     "execution_count": 7,
     "metadata": {},
     "output_type": "execute_result"
    }
   ],
   "source": [
    "RFM.iloc[:,1:]"
   ]
  },
  {
   "cell_type": "code",
   "execution_count": 3,
   "metadata": {
    "scrolled": true
   },
   "outputs": [
    {
     "name": "stderr",
     "output_type": "stream",
     "text": [
      "/Library/Frameworks/Python.framework/Versions/3.7/lib/python3.7/site-packages/ipykernel_launcher.py:7: SettingWithCopyWarning: \n",
      "A value is trying to be set on a copy of a slice from a DataFrame.\n",
      "Try using .loc[row_indexer,col_indexer] = value instead\n",
      "\n",
      "See the caveats in the documentation: http://pandas.pydata.org/pandas-docs/stable/user_guide/indexing.html#returning-a-view-versus-a-copy\n",
      "  import sys\n",
      "/Library/Frameworks/Python.framework/Versions/3.7/lib/python3.7/site-packages/ipykernel_launcher.py:7: SettingWithCopyWarning: \n",
      "A value is trying to be set on a copy of a slice from a DataFrame.\n",
      "Try using .loc[row_indexer,col_indexer] = value instead\n",
      "\n",
      "See the caveats in the documentation: http://pandas.pydata.org/pandas-docs/stable/user_guide/indexing.html#returning-a-view-versus-a-copy\n",
      "  import sys\n",
      "/Library/Frameworks/Python.framework/Versions/3.7/lib/python3.7/site-packages/ipykernel_launcher.py:7: SettingWithCopyWarning: \n",
      "A value is trying to be set on a copy of a slice from a DataFrame.\n",
      "Try using .loc[row_indexer,col_indexer] = value instead\n",
      "\n",
      "See the caveats in the documentation: http://pandas.pydata.org/pandas-docs/stable/user_guide/indexing.html#returning-a-view-versus-a-copy\n",
      "  import sys\n",
      "/Library/Frameworks/Python.framework/Versions/3.7/lib/python3.7/site-packages/ipykernel_launcher.py:7: SettingWithCopyWarning: \n",
      "A value is trying to be set on a copy of a slice from a DataFrame.\n",
      "Try using .loc[row_indexer,col_indexer] = value instead\n",
      "\n",
      "See the caveats in the documentation: http://pandas.pydata.org/pandas-docs/stable/user_guide/indexing.html#returning-a-view-versus-a-copy\n",
      "  import sys\n",
      "/Library/Frameworks/Python.framework/Versions/3.7/lib/python3.7/site-packages/ipykernel_launcher.py:7: SettingWithCopyWarning: \n",
      "A value is trying to be set on a copy of a slice from a DataFrame.\n",
      "Try using .loc[row_indexer,col_indexer] = value instead\n",
      "\n",
      "See the caveats in the documentation: http://pandas.pydata.org/pandas-docs/stable/user_guide/indexing.html#returning-a-view-versus-a-copy\n",
      "  import sys\n",
      "/Library/Frameworks/Python.framework/Versions/3.7/lib/python3.7/site-packages/ipykernel_launcher.py:7: SettingWithCopyWarning: \n",
      "A value is trying to be set on a copy of a slice from a DataFrame.\n",
      "Try using .loc[row_indexer,col_indexer] = value instead\n",
      "\n",
      "See the caveats in the documentation: http://pandas.pydata.org/pandas-docs/stable/user_guide/indexing.html#returning-a-view-versus-a-copy\n",
      "  import sys\n",
      "/Library/Frameworks/Python.framework/Versions/3.7/lib/python3.7/site-packages/ipykernel_launcher.py:7: SettingWithCopyWarning: \n",
      "A value is trying to be set on a copy of a slice from a DataFrame.\n",
      "Try using .loc[row_indexer,col_indexer] = value instead\n",
      "\n",
      "See the caveats in the documentation: http://pandas.pydata.org/pandas-docs/stable/user_guide/indexing.html#returning-a-view-versus-a-copy\n",
      "  import sys\n",
      "/Library/Frameworks/Python.framework/Versions/3.7/lib/python3.7/site-packages/ipykernel_launcher.py:7: SettingWithCopyWarning: \n",
      "A value is trying to be set on a copy of a slice from a DataFrame.\n",
      "Try using .loc[row_indexer,col_indexer] = value instead\n",
      "\n",
      "See the caveats in the documentation: http://pandas.pydata.org/pandas-docs/stable/user_guide/indexing.html#returning-a-view-versus-a-copy\n",
      "  import sys\n",
      "/Library/Frameworks/Python.framework/Versions/3.7/lib/python3.7/site-packages/ipykernel_launcher.py:7: SettingWithCopyWarning: \n",
      "A value is trying to be set on a copy of a slice from a DataFrame.\n",
      "Try using .loc[row_indexer,col_indexer] = value instead\n",
      "\n",
      "See the caveats in the documentation: http://pandas.pydata.org/pandas-docs/stable/user_guide/indexing.html#returning-a-view-versus-a-copy\n",
      "  import sys\n"
     ]
    },
    {
     "data": {
      "image/png": "[encoded data removed]",
      "text/plain": [
       "<Figure size 432x288 with 1 Axes>"
      ]
     },
     "metadata": {
      "needs_background": "light"
     },
     "output_type": "display_data"
    }
   ],
   "source": [
    "from sklearn.cluster import KMeans\n",
    "\n",
    "sse=dict()\n",
    "recency_cl = RFM[['recency']]\n",
    "for i in range(1, 10):\n",
    "    kmeans = KMeans(n_clusters=i, max_iter=1000).fit(recency_cl)\n",
    "    recency_cl['clusters'] = kmeans.labels_\n",
    "    sse[i] = kmeans.inertia_ \n",
    "plt.figure()\n",
    "plt.plot(list(sse.keys()), list(sse.values()))\n",
    "plt.xlabel('Число кластеров')\n",
    "plt.show()"
   ]
  },
  {
   "cell_type": "code",
   "execution_count": 94,
   "metadata": {},
   "outputs": [],
   "source": [
    "from sklearn.cluster import KMeans\n",
    "\n",
    "kmeans = KMeans(n_clusters=4)\n",
    "kmeans.fit(RFM[['recency']])\n",
    "RFM['RecencyCluster'] = kmeans.predict(RFM[['recency']])\n",
    "\n",
    "\n",
    "def order_cluster(cluster, target, data, ascending):\n",
    "    df_new = data.groupby(cluster)[target].mean().reset_index()\n",
    "    df_new = df_new.sort_values(by=target,ascending=ascending).reset_index(drop=True)\n",
    "    df_new['index'] = df_new.index\n",
    "    df_final = pd.merge(data,df_new[[cluster,'index']], on=cluster)\n",
    "    df_final = df_final.drop([cluster],axis=1)\n",
    "    df_final = df_final.rename(columns={\"index\":cluster})\n",
    "    return df_final\n",
    "\n",
    "RFM = order_cluster('RecencyCluster', 'recency', RFM, False)"
   ]
  },
  {
   "cell_type": "code",
   "execution_count": 95,
   "metadata": {},
   "outputs": [
    {
     "data": {
      "text/html": [
       "<div>\n",
       "<style scoped>\n",
       "    .dataframe tbody tr th:only-of-type {\n",
       "        vertical-align: middle;\n",
       "    }\n",
       "\n",
       "    .dataframe tbody tr th {\n",
       "        vertical-align: top;\n",
       "    }\n",
       "\n",
       "    .dataframe thead th {\n",
       "        text-align: right;\n",
       "    }\n",
       "</style>\n",
       "<table border=\"1\" class=\"dataframe\">\n",
       "  <thead>\n",
       "    <tr style=\"text-align: right;\">\n",
       "      <th></th>\n",
       "      <th>customer_id</th>\n",
       "      <th>recency</th>\n",
       "      <th>frequency</th>\n",
       "      <th>monetary</th>\n",
       "      <th>RecencyCluster</th>\n",
       "    </tr>\n",
       "  </thead>\n",
       "  <tbody>\n",
       "    <tr>\n",
       "      <th>0</th>\n",
       "      <td>000021d6-2d90-43ba-8a94-1e80f2f43846-ws</td>\n",
       "      <td>46</td>\n",
       "      <td>1</td>\n",
       "      <td>478.299988</td>\n",
       "      <td>2</td>\n",
       "    </tr>\n",
       "    <tr>\n",
       "      <th>1</th>\n",
       "      <td>00003187-2797-47f5-9ff1-5c2a3770c03c-ws</td>\n",
       "      <td>28</td>\n",
       "      <td>17</td>\n",
       "      <td>408.058824</td>\n",
       "      <td>2</td>\n",
       "    </tr>\n",
       "    <tr>\n",
       "      <th>2</th>\n",
       "      <td>00018164-f4a3-4640-ad5a-793dc4c1942e-ws</td>\n",
       "      <td>42</td>\n",
       "      <td>15</td>\n",
       "      <td>646.000000</td>\n",
       "      <td>2</td>\n",
       "    </tr>\n",
       "    <tr>\n",
       "      <th>3</th>\n",
       "      <td>0001be5d-11e9-457c-a6e5-ce00c7e1b5bd-ws</td>\n",
       "      <td>39</td>\n",
       "      <td>3</td>\n",
       "      <td>270.600008</td>\n",
       "      <td>2</td>\n",
       "    </tr>\n",
       "    <tr>\n",
       "      <th>4</th>\n",
       "      <td>0001d202-f3c9-4be6-8c3f-4b3160aa4fcb-ws</td>\n",
       "      <td>37</td>\n",
       "      <td>12</td>\n",
       "      <td>296.466667</td>\n",
       "      <td>2</td>\n",
       "    </tr>\n",
       "    <tr>\n",
       "      <th>...</th>\n",
       "      <td>...</td>\n",
       "      <td>...</td>\n",
       "      <td>...</td>\n",
       "      <td>...</td>\n",
       "      <td>...</td>\n",
       "    </tr>\n",
       "    <tr>\n",
       "      <th>520221</th>\n",
       "      <td>fffd6bf9-e995-417d-b61b-af8f879f0145-ws</td>\n",
       "      <td>70</td>\n",
       "      <td>15</td>\n",
       "      <td>369.920000</td>\n",
       "      <td>1</td>\n",
       "    </tr>\n",
       "    <tr>\n",
       "      <th>520222</th>\n",
       "      <td>fffdd0ae-d2c6-4468-b8bf-4a2a7ccc63af-ws</td>\n",
       "      <td>71</td>\n",
       "      <td>2</td>\n",
       "      <td>204.500000</td>\n",
       "      <td>1</td>\n",
       "    </tr>\n",
       "    <tr>\n",
       "      <th>520223</th>\n",
       "      <td>fffee54b-deb0-42b4-aa6a-bd5a3a3ad177-ws</td>\n",
       "      <td>84</td>\n",
       "      <td>19</td>\n",
       "      <td>879.315789</td>\n",
       "      <td>1</td>\n",
       "    </tr>\n",
       "    <tr>\n",
       "      <th>520224</th>\n",
       "      <td>ffffde29-7d94-4f5e-96e4-e1eb3260a3ef-ws</td>\n",
       "      <td>91</td>\n",
       "      <td>18</td>\n",
       "      <td>222.744443</td>\n",
       "      <td>1</td>\n",
       "    </tr>\n",
       "    <tr>\n",
       "      <th>520225</th>\n",
       "      <td>fffff761-6fcd-41ca-bab6-b42c828e8582-ws</td>\n",
       "      <td>90</td>\n",
       "      <td>6</td>\n",
       "      <td>155.916667</td>\n",
       "      <td>1</td>\n",
       "    </tr>\n",
       "  </tbody>\n",
       "</table>\n",
       "<p>520226 rows × 5 columns</p>\n",
       "</div>"
      ],
      "text/plain": [
       "                                    customer_id  recency  frequency  \\\n",
       "0       000021d6-2d90-43ba-8a94-1e80f2f43846-ws       46          1   \n",
       "1       00003187-2797-47f5-9ff1-5c2a3770c03c-ws       28         17   \n",
       "2       00018164-f4a3-4640-ad5a-793dc4c1942e-ws       42         15   \n",
       "3       0001be5d-11e9-457c-a6e5-ce00c7e1b5bd-ws       39          3   \n",
       "4       0001d202-f3c9-4be6-8c3f-4b3160aa4fcb-ws       37         12   \n",
       "...                                         ...      ...        ...   \n",
       "520221  fffd6bf9-e995-417d-b61b-af8f879f0145-ws       70         15   \n",
       "520222  fffdd0ae-d2c6-4468-b8bf-4a2a7ccc63af-ws       71          2   \n",
       "520223  fffee54b-deb0-42b4-aa6a-bd5a3a3ad177-ws       84         19   \n",
       "520224  ffffde29-7d94-4f5e-96e4-e1eb3260a3ef-ws       91         18   \n",
       "520225  fffff761-6fcd-41ca-bab6-b42c828e8582-ws       90          6   \n",
       "\n",
       "          monetary  RecencyCluster  \n",
       "0       478.299988               2  \n",
       "1       408.058824               2  \n",
       "2       646.000000               2  \n",
       "3       270.600008               2  \n",
       "4       296.466667               2  \n",
       "...            ...             ...  \n",
       "520221  369.920000               1  \n",
       "520222  204.500000               1  \n",
       "520223  879.315789               1  \n",
       "520224  222.744443               1  \n",
       "520225  155.916667               1  \n",
       "\n",
       "[520226 rows x 5 columns]"
      ]
     },
     "execution_count": 95,
     "metadata": {},
     "output_type": "execute_result"
    }
   ],
   "source": [
    "RFM"
   ]
  },
  {
   "cell_type": "code",
   "execution_count": 96,
   "metadata": {},
   "outputs": [
    {
     "data": {
      "text/html": [
       "<div>\n",
       "<style scoped>\n",
       "    .dataframe tbody tr th:only-of-type {\n",
       "        vertical-align: middle;\n",
       "    }\n",
       "\n",
       "    .dataframe tbody tr th {\n",
       "        vertical-align: top;\n",
       "    }\n",
       "\n",
       "    .dataframe thead th {\n",
       "        text-align: right;\n",
       "    }\n",
       "</style>\n",
       "<table border=\"1\" class=\"dataframe\">\n",
       "  <thead>\n",
       "    <tr style=\"text-align: right;\">\n",
       "      <th></th>\n",
       "      <th>count</th>\n",
       "      <th>mean</th>\n",
       "      <th>std</th>\n",
       "      <th>min</th>\n",
       "      <th>25%</th>\n",
       "      <th>50%</th>\n",
       "      <th>75%</th>\n",
       "      <th>max</th>\n",
       "    </tr>\n",
       "    <tr>\n",
       "      <th>RecencyCluster</th>\n",
       "      <th></th>\n",
       "      <th></th>\n",
       "      <th></th>\n",
       "      <th></th>\n",
       "      <th></th>\n",
       "      <th></th>\n",
       "      <th></th>\n",
       "      <th></th>\n",
       "    </tr>\n",
       "  </thead>\n",
       "  <tbody>\n",
       "    <tr>\n",
       "      <th>0</th>\n",
       "      <td>50863.0</td>\n",
       "      <td>147.453670</td>\n",
       "      <td>19.294358</td>\n",
       "      <td>114.0</td>\n",
       "      <td>132.0</td>\n",
       "      <td>146.0</td>\n",
       "      <td>164.0</td>\n",
       "      <td>182.0</td>\n",
       "    </tr>\n",
       "    <tr>\n",
       "      <th>1</th>\n",
       "      <td>90249.0</td>\n",
       "      <td>79.705415</td>\n",
       "      <td>15.140048</td>\n",
       "      <td>61.0</td>\n",
       "      <td>67.0</td>\n",
       "      <td>76.0</td>\n",
       "      <td>91.0</td>\n",
       "      <td>113.0</td>\n",
       "    </tr>\n",
       "    <tr>\n",
       "      <th>2</th>\n",
       "      <td>128100.0</td>\n",
       "      <td>40.450258</td>\n",
       "      <td>9.246972</td>\n",
       "      <td>26.0</td>\n",
       "      <td>32.0</td>\n",
       "      <td>40.0</td>\n",
       "      <td>47.0</td>\n",
       "      <td>60.0</td>\n",
       "    </tr>\n",
       "    <tr>\n",
       "      <th>3</th>\n",
       "      <td>251014.0</td>\n",
       "      <td>11.019983</td>\n",
       "      <td>6.738597</td>\n",
       "      <td>1.0</td>\n",
       "      <td>5.0</td>\n",
       "      <td>10.0</td>\n",
       "      <td>15.0</td>\n",
       "      <td>25.0</td>\n",
       "    </tr>\n",
       "  </tbody>\n",
       "</table>\n",
       "</div>"
      ],
      "text/plain": [
       "                   count        mean        std    min    25%    50%    75%  \\\n",
       "RecencyCluster                                                                \n",
       "0                50863.0  147.453670  19.294358  114.0  132.0  146.0  164.0   \n",
       "1                90249.0   79.705415  15.140048   61.0   67.0   76.0   91.0   \n",
       "2               128100.0   40.450258   9.246972   26.0   32.0   40.0   47.0   \n",
       "3               251014.0   11.019983   6.738597    1.0    5.0   10.0   15.0   \n",
       "\n",
       "                  max  \n",
       "RecencyCluster         \n",
       "0               182.0  \n",
       "1               113.0  \n",
       "2                60.0  \n",
       "3                25.0  "
      ]
     },
     "execution_count": 96,
     "metadata": {},
     "output_type": "execute_result"
    }
   ],
   "source": [
    "RFM.groupby('RecencyCluster')['recency'].describe()"
   ]
  },
  {
   "cell_type": "code",
   "execution_count": 97,
   "metadata": {},
   "outputs": [
    {
     "data": {
      "text/html": [
       "<div>\n",
       "<style scoped>\n",
       "    .dataframe tbody tr th:only-of-type {\n",
       "        vertical-align: middle;\n",
       "    }\n",
       "\n",
       "    .dataframe tbody tr th {\n",
       "        vertical-align: top;\n",
       "    }\n",
       "\n",
       "    .dataframe thead th {\n",
       "        text-align: right;\n",
       "    }\n",
       "</style>\n",
       "<table border=\"1\" class=\"dataframe\">\n",
       "  <thead>\n",
       "    <tr style=\"text-align: right;\">\n",
       "      <th></th>\n",
       "      <th>count</th>\n",
       "      <th>mean</th>\n",
       "      <th>std</th>\n",
       "      <th>min</th>\n",
       "      <th>25%</th>\n",
       "      <th>50%</th>\n",
       "      <th>75%</th>\n",
       "      <th>max</th>\n",
       "    </tr>\n",
       "    <tr>\n",
       "      <th>FrequencyCluster</th>\n",
       "      <th></th>\n",
       "      <th></th>\n",
       "      <th></th>\n",
       "      <th></th>\n",
       "      <th></th>\n",
       "      <th></th>\n",
       "      <th></th>\n",
       "      <th></th>\n",
       "    </tr>\n",
       "  </thead>\n",
       "  <tbody>\n",
       "    <tr>\n",
       "      <th>0</th>\n",
       "      <td>285534.0</td>\n",
       "      <td>6.391197</td>\n",
       "      <td>3.570166</td>\n",
       "      <td>1.0</td>\n",
       "      <td>3.0</td>\n",
       "      <td>6.0</td>\n",
       "      <td>9.0</td>\n",
       "      <td>13.0</td>\n",
       "    </tr>\n",
       "    <tr>\n",
       "      <th>1</th>\n",
       "      <td>148353.0</td>\n",
       "      <td>20.179882</td>\n",
       "      <td>4.499153</td>\n",
       "      <td>14.0</td>\n",
       "      <td>16.0</td>\n",
       "      <td>20.0</td>\n",
       "      <td>24.0</td>\n",
       "      <td>29.0</td>\n",
       "    </tr>\n",
       "    <tr>\n",
       "      <th>2</th>\n",
       "      <td>69457.0</td>\n",
       "      <td>39.413162</td>\n",
       "      <td>7.309888</td>\n",
       "      <td>30.0</td>\n",
       "      <td>33.0</td>\n",
       "      <td>38.0</td>\n",
       "      <td>45.0</td>\n",
       "      <td>56.0</td>\n",
       "    </tr>\n",
       "    <tr>\n",
       "      <th>3</th>\n",
       "      <td>16882.0</td>\n",
       "      <td>74.088260</td>\n",
       "      <td>18.777296</td>\n",
       "      <td>57.0</td>\n",
       "      <td>61.0</td>\n",
       "      <td>68.0</td>\n",
       "      <td>80.0</td>\n",
       "      <td>338.0</td>\n",
       "    </tr>\n",
       "  </tbody>\n",
       "</table>\n",
       "</div>"
      ],
      "text/plain": [
       "                     count       mean        std   min   25%   50%   75%  \\\n",
       "FrequencyCluster                                                           \n",
       "0                 285534.0   6.391197   3.570166   1.0   3.0   6.0   9.0   \n",
       "1                 148353.0  20.179882   4.499153  14.0  16.0  20.0  24.0   \n",
       "2                  69457.0  39.413162   7.309888  30.0  33.0  38.0  45.0   \n",
       "3                  16882.0  74.088260  18.777296  57.0  61.0  68.0  80.0   \n",
       "\n",
       "                    max  \n",
       "FrequencyCluster         \n",
       "0                  13.0  \n",
       "1                  29.0  \n",
       "2                  56.0  \n",
       "3                 338.0  "
      ]
     },
     "execution_count": 97,
     "metadata": {},
     "output_type": "execute_result"
    }
   ],
   "source": [
    "kmeans = KMeans(n_clusters=4)\n",
    "kmeans.fit(RFM[['frequency']])\n",
    "RFM['FrequencyCluster'] = kmeans.predict(RFM[['frequency']])\n",
    "\n",
    "\n",
    "RFM = order_cluster('FrequencyCluster', 'frequency',RFM,True)\n",
    "RFM.groupby('FrequencyCluster')['frequency'].describe()"
   ]
  },
  {
   "cell_type": "code",
   "execution_count": 98,
   "metadata": {},
   "outputs": [
    {
     "data": {
      "text/html": [
       "<div>\n",
       "<style scoped>\n",
       "    .dataframe tbody tr th:only-of-type {\n",
       "        vertical-align: middle;\n",
       "    }\n",
       "\n",
       "    .dataframe tbody tr th {\n",
       "        vertical-align: top;\n",
       "    }\n",
       "\n",
       "    .dataframe thead th {\n",
       "        text-align: right;\n",
       "    }\n",
       "</style>\n",
       "<table border=\"1\" class=\"dataframe\">\n",
       "  <thead>\n",
       "    <tr style=\"text-align: right;\">\n",
       "      <th></th>\n",
       "      <th>count</th>\n",
       "      <th>mean</th>\n",
       "      <th>std</th>\n",
       "      <th>min</th>\n",
       "      <th>25%</th>\n",
       "      <th>50%</th>\n",
       "      <th>75%</th>\n",
       "      <th>max</th>\n",
       "    </tr>\n",
       "    <tr>\n",
       "      <th>MonetaryCluster</th>\n",
       "      <th></th>\n",
       "      <th></th>\n",
       "      <th></th>\n",
       "      <th></th>\n",
       "      <th></th>\n",
       "      <th></th>\n",
       "      <th></th>\n",
       "      <th></th>\n",
       "    </tr>\n",
       "  </thead>\n",
       "  <tbody>\n",
       "    <tr>\n",
       "      <th>0</th>\n",
       "      <td>249741.0</td>\n",
       "      <td>177.600100</td>\n",
       "      <td>66.396489</td>\n",
       "      <td>4.300000</td>\n",
       "      <td>124.500000</td>\n",
       "      <td>173.750000</td>\n",
       "      <td>232.463158</td>\n",
       "      <td>300.325000</td>\n",
       "    </tr>\n",
       "    <tr>\n",
       "      <th>1</th>\n",
       "      <td>183104.0</td>\n",
       "      <td>422.561593</td>\n",
       "      <td>78.627779</td>\n",
       "      <td>300.327273</td>\n",
       "      <td>354.215380</td>\n",
       "      <td>414.533333</td>\n",
       "      <td>486.200000</td>\n",
       "      <td>580.383333</td>\n",
       "    </tr>\n",
       "    <tr>\n",
       "      <th>2</th>\n",
       "      <td>78530.0</td>\n",
       "      <td>737.190139</td>\n",
       "      <td>124.824886</td>\n",
       "      <td>580.399994</td>\n",
       "      <td>634.324108</td>\n",
       "      <td>705.702180</td>\n",
       "      <td>815.659375</td>\n",
       "      <td>1083.104167</td>\n",
       "    </tr>\n",
       "    <tr>\n",
       "      <th>3</th>\n",
       "      <td>8851.0</td>\n",
       "      <td>1426.852659</td>\n",
       "      <td>487.429024</td>\n",
       "      <td>1083.142857</td>\n",
       "      <td>1160.000000</td>\n",
       "      <td>1276.187500</td>\n",
       "      <td>1512.275000</td>\n",
       "      <td>9504.666667</td>\n",
       "    </tr>\n",
       "  </tbody>\n",
       "</table>\n",
       "</div>"
      ],
      "text/plain": [
       "                    count         mean         std          min          25%  \\\n",
       "MonetaryCluster                                                                \n",
       "0                249741.0   177.600100   66.396489     4.300000   124.500000   \n",
       "1                183104.0   422.561593   78.627779   300.327273   354.215380   \n",
       "2                 78530.0   737.190139  124.824886   580.399994   634.324108   \n",
       "3                  8851.0  1426.852659  487.429024  1083.142857  1160.000000   \n",
       "\n",
       "                         50%          75%          max  \n",
       "MonetaryCluster                                         \n",
       "0                 173.750000   232.463158   300.325000  \n",
       "1                 414.533333   486.200000   580.383333  \n",
       "2                 705.702180   815.659375  1083.104167  \n",
       "3                1276.187500  1512.275000  9504.666667  "
      ]
     },
     "execution_count": 98,
     "metadata": {},
     "output_type": "execute_result"
    }
   ],
   "source": [
    "kmeans.fit(RFM[['monetary']])\n",
    "RFM['MonetaryCluster'] = kmeans.predict(RFM[['monetary']])\n",
    "\n",
    "\n",
    "RFM = order_cluster('MonetaryCluster', 'monetary',RFM,True)\n",
    "RFM.groupby('MonetaryCluster')['monetary'].describe()"
   ]
  },
  {
   "cell_type": "code",
   "execution_count": 99,
   "metadata": {},
   "outputs": [
    {
     "data": {
      "text/html": [
       "<div>\n",
       "<style scoped>\n",
       "    .dataframe tbody tr th:only-of-type {\n",
       "        vertical-align: middle;\n",
       "    }\n",
       "\n",
       "    .dataframe tbody tr th {\n",
       "        vertical-align: top;\n",
       "    }\n",
       "\n",
       "    .dataframe thead th {\n",
       "        text-align: right;\n",
       "    }\n",
       "</style>\n",
       "<table border=\"1\" class=\"dataframe\">\n",
       "  <thead>\n",
       "    <tr style=\"text-align: right;\">\n",
       "      <th></th>\n",
       "      <th>recency</th>\n",
       "      <th>frequency</th>\n",
       "      <th>monetary</th>\n",
       "    </tr>\n",
       "    <tr>\n",
       "      <th>OverallScore</th>\n",
       "      <th></th>\n",
       "      <th></th>\n",
       "      <th></th>\n",
       "    </tr>\n",
       "  </thead>\n",
       "  <tbody>\n",
       "    <tr>\n",
       "      <th>0</th>\n",
       "      <td>149.084979</td>\n",
       "      <td>4.454022</td>\n",
       "      <td>164.967155</td>\n",
       "    </tr>\n",
       "    <tr>\n",
       "      <th>1</th>\n",
       "      <td>97.080887</td>\n",
       "      <td>5.587932</td>\n",
       "      <td>232.114862</td>\n",
       "    </tr>\n",
       "    <tr>\n",
       "      <th>2</th>\n",
       "      <td>62.537518</td>\n",
       "      <td>7.071199</td>\n",
       "      <td>279.394196</td>\n",
       "    </tr>\n",
       "    <tr>\n",
       "      <th>3</th>\n",
       "      <td>36.291815</td>\n",
       "      <td>9.948999</td>\n",
       "      <td>323.883633</td>\n",
       "    </tr>\n",
       "    <tr>\n",
       "      <th>4</th>\n",
       "      <td>23.492921</td>\n",
       "      <td>16.038558</td>\n",
       "      <td>387.859841</td>\n",
       "    </tr>\n",
       "    <tr>\n",
       "      <th>5</th>\n",
       "      <td>15.773983</td>\n",
       "      <td>24.484273</td>\n",
       "      <td>463.497963</td>\n",
       "    </tr>\n",
       "    <tr>\n",
       "      <th>6</th>\n",
       "      <td>11.625536</td>\n",
       "      <td>38.000918</td>\n",
       "      <td>537.577598</td>\n",
       "    </tr>\n",
       "    <tr>\n",
       "      <th>7</th>\n",
       "      <td>10.095777</td>\n",
       "      <td>50.298592</td>\n",
       "      <td>641.887309</td>\n",
       "    </tr>\n",
       "    <tr>\n",
       "      <th>8</th>\n",
       "      <td>9.398500</td>\n",
       "      <td>64.826067</td>\n",
       "      <td>790.971500</td>\n",
       "    </tr>\n",
       "    <tr>\n",
       "      <th>9</th>\n",
       "      <td>8.448276</td>\n",
       "      <td>64.896552</td>\n",
       "      <td>1189.361268</td>\n",
       "    </tr>\n",
       "  </tbody>\n",
       "</table>\n",
       "</div>"
      ],
      "text/plain": [
       "                 recency  frequency     monetary\n",
       "OverallScore                                    \n",
       "0             149.084979   4.454022   164.967155\n",
       "1              97.080887   5.587932   232.114862\n",
       "2              62.537518   7.071199   279.394196\n",
       "3              36.291815   9.948999   323.883633\n",
       "4              23.492921  16.038558   387.859841\n",
       "5              15.773983  24.484273   463.497963\n",
       "6              11.625536  38.000918   537.577598\n",
       "7              10.095777  50.298592   641.887309\n",
       "8               9.398500  64.826067   790.971500\n",
       "9               8.448276  64.896552  1189.361268"
      ]
     },
     "execution_count": 99,
     "metadata": {},
     "output_type": "execute_result"
    }
   ],
   "source": [
    "#подсчет общего\n",
    "RFM['OverallScore'] = RFM['RecencyCluster'] + RFM['FrequencyCluster'] + RFM['MonetaryCluster']\n",
    "RFM.groupby('OverallScore')['recency','frequency','monetary'].mean()"
   ]
  },
  {
   "cell_type": "code",
   "execution_count": 102,
   "metadata": {},
   "outputs": [],
   "source": [
    "RFM['Segment'] = 'Бездействие' # последняя покупка давно, и небольшое число заказов\n",
    "RFM.loc[RFM['OverallScore']>2,'Segment'] = 'В зоне риска' #покупали часто,но давно\n",
    "RFM.loc[RFM['OverallScore']>4,'Segment'] = 'Засыпающие' #Ниже среднего давность и частота. Потеряем их, если не реактивировать\n",
    "RFM.loc[RFM['OverallScore']>5,'Segment'] = 'Постоянные клиенты'\n",
    "RFM.loc[RFM['OverallScore']>7,'Segment'] = 'Чемпионы' #Купили недавно, покупают часто и тратят больше всего"
   ]
  },
  {
   "cell_type": "code",
   "execution_count": 103,
   "metadata": {
    "scrolled": true
   },
   "outputs": [
    {
     "data": {
      "text/html": [
       "<div>\n",
       "<style scoped>\n",
       "    .dataframe tbody tr th:only-of-type {\n",
       "        vertical-align: middle;\n",
       "    }\n",
       "\n",
       "    .dataframe tbody tr th {\n",
       "        vertical-align: top;\n",
       "    }\n",
       "\n",
       "    .dataframe thead th {\n",
       "        text-align: right;\n",
       "    }\n",
       "</style>\n",
       "<table border=\"1\" class=\"dataframe\">\n",
       "  <thead>\n",
       "    <tr style=\"text-align: right;\">\n",
       "      <th></th>\n",
       "      <th>customer_id</th>\n",
       "      <th>recency</th>\n",
       "      <th>frequency</th>\n",
       "      <th>monetary</th>\n",
       "      <th>RecencyCluster</th>\n",
       "      <th>FrequencyCluster</th>\n",
       "      <th>MonetaryCluster</th>\n",
       "      <th>OverallScore</th>\n",
       "      <th>Segment</th>\n",
       "    </tr>\n",
       "  </thead>\n",
       "  <tbody>\n",
       "    <tr>\n",
       "      <th>0</th>\n",
       "      <td>000021d6-2d90-43ba-8a94-1e80f2f43846-ws</td>\n",
       "      <td>46</td>\n",
       "      <td>1</td>\n",
       "      <td>478.299988</td>\n",
       "      <td>2</td>\n",
       "      <td>0</td>\n",
       "      <td>1</td>\n",
       "      <td>3</td>\n",
       "      <td>В зоне риска</td>\n",
       "    </tr>\n",
       "    <tr>\n",
       "      <th>1</th>\n",
       "      <td>0004f1d2-b702-4244-bdbd-3b6b380ad64c-ws</td>\n",
       "      <td>42</td>\n",
       "      <td>10</td>\n",
       "      <td>349.400000</td>\n",
       "      <td>2</td>\n",
       "      <td>0</td>\n",
       "      <td>1</td>\n",
       "      <td>3</td>\n",
       "      <td>В зоне риска</td>\n",
       "    </tr>\n",
       "    <tr>\n",
       "      <th>2</th>\n",
       "      <td>00082c91-8f8a-4bd4-8603-1e9c69422280-ws</td>\n",
       "      <td>49</td>\n",
       "      <td>6</td>\n",
       "      <td>437.333333</td>\n",
       "      <td>2</td>\n",
       "      <td>0</td>\n",
       "      <td>1</td>\n",
       "      <td>3</td>\n",
       "      <td>В зоне риска</td>\n",
       "    </tr>\n",
       "    <tr>\n",
       "      <th>3</th>\n",
       "      <td>000bb57b-9f05-4a60-85d4-9dc1f52120f9-ws</td>\n",
       "      <td>51</td>\n",
       "      <td>5</td>\n",
       "      <td>390.400000</td>\n",
       "      <td>2</td>\n",
       "      <td>0</td>\n",
       "      <td>1</td>\n",
       "      <td>3</td>\n",
       "      <td>В зоне риска</td>\n",
       "    </tr>\n",
       "    <tr>\n",
       "      <th>4</th>\n",
       "      <td>000ce0e3-f3ab-4bc9-b7cd-3ecda9b2bf65-ws</td>\n",
       "      <td>30</td>\n",
       "      <td>4</td>\n",
       "      <td>431.500000</td>\n",
       "      <td>2</td>\n",
       "      <td>0</td>\n",
       "      <td>1</td>\n",
       "      <td>3</td>\n",
       "      <td>В зоне риска</td>\n",
       "    </tr>\n",
       "    <tr>\n",
       "      <th>...</th>\n",
       "      <td>...</td>\n",
       "      <td>...</td>\n",
       "      <td>...</td>\n",
       "      <td>...</td>\n",
       "      <td>...</td>\n",
       "      <td>...</td>\n",
       "      <td>...</td>\n",
       "      <td>...</td>\n",
       "      <td>...</td>\n",
       "    </tr>\n",
       "    <tr>\n",
       "      <th>520221</th>\n",
       "      <td>e49909d9-24d7-4ae0-951e-345e99643320-ws</td>\n",
       "      <td>3</td>\n",
       "      <td>67</td>\n",
       "      <td>1142.973129</td>\n",
       "      <td>3</td>\n",
       "      <td>3</td>\n",
       "      <td>3</td>\n",
       "      <td>9</td>\n",
       "      <td>Чемпионы</td>\n",
       "    </tr>\n",
       "    <tr>\n",
       "      <th>520222</th>\n",
       "      <td>f07bef62-082a-48b2-befe-95aa17e581fe-ws</td>\n",
       "      <td>1</td>\n",
       "      <td>58</td>\n",
       "      <td>1259.974138</td>\n",
       "      <td>3</td>\n",
       "      <td>3</td>\n",
       "      <td>3</td>\n",
       "      <td>9</td>\n",
       "      <td>Чемпионы</td>\n",
       "    </tr>\n",
       "    <tr>\n",
       "      <th>520223</th>\n",
       "      <td>f3c6c68d-f33d-499e-99a9-881d259dc533-ws</td>\n",
       "      <td>14</td>\n",
       "      <td>57</td>\n",
       "      <td>1242.852630</td>\n",
       "      <td>3</td>\n",
       "      <td>3</td>\n",
       "      <td>3</td>\n",
       "      <td>9</td>\n",
       "      <td>Чемпионы</td>\n",
       "    </tr>\n",
       "    <tr>\n",
       "      <th>520224</th>\n",
       "      <td>f71f222d-138d-4dee-b64a-deb7b8d5f695-ws</td>\n",
       "      <td>5</td>\n",
       "      <td>76</td>\n",
       "      <td>1426.042105</td>\n",
       "      <td>3</td>\n",
       "      <td>3</td>\n",
       "      <td>3</td>\n",
       "      <td>9</td>\n",
       "      <td>Чемпионы</td>\n",
       "    </tr>\n",
       "    <tr>\n",
       "      <th>520225</th>\n",
       "      <td>f92fa9ed-bf19-4fae-94cb-c8983dc75d1e-ws</td>\n",
       "      <td>10</td>\n",
       "      <td>60</td>\n",
       "      <td>1146.783333</td>\n",
       "      <td>3</td>\n",
       "      <td>3</td>\n",
       "      <td>3</td>\n",
       "      <td>9</td>\n",
       "      <td>Чемпионы</td>\n",
       "    </tr>\n",
       "  </tbody>\n",
       "</table>\n",
       "<p>520226 rows × 9 columns</p>\n",
       "</div>"
      ],
      "text/plain": [
       "                                    customer_id  recency  frequency  \\\n",
       "0       000021d6-2d90-43ba-8a94-1e80f2f43846-ws       46          1   \n",
       "1       0004f1d2-b702-4244-bdbd-3b6b380ad64c-ws       42         10   \n",
       "2       00082c91-8f8a-4bd4-8603-1e9c69422280-ws       49          6   \n",
       "3       000bb57b-9f05-4a60-85d4-9dc1f52120f9-ws       51          5   \n",
       "4       000ce0e3-f3ab-4bc9-b7cd-3ecda9b2bf65-ws       30          4   \n",
       "...                                         ...      ...        ...   \n",
       "520221  e49909d9-24d7-4ae0-951e-345e99643320-ws        3         67   \n",
       "520222  f07bef62-082a-48b2-befe-95aa17e581fe-ws        1         58   \n",
       "520223  f3c6c68d-f33d-499e-99a9-881d259dc533-ws       14         57   \n",
       "520224  f71f222d-138d-4dee-b64a-deb7b8d5f695-ws        5         76   \n",
       "520225  f92fa9ed-bf19-4fae-94cb-c8983dc75d1e-ws       10         60   \n",
       "\n",
       "           monetary  RecencyCluster  FrequencyCluster  MonetaryCluster  \\\n",
       "0        478.299988               2                 0                1   \n",
       "1        349.400000               2                 0                1   \n",
       "2        437.333333               2                 0                1   \n",
       "3        390.400000               2                 0                1   \n",
       "4        431.500000               2                 0                1   \n",
       "...             ...             ...               ...              ...   \n",
       "520221  1142.973129               3                 3                3   \n",
       "520222  1259.974138               3                 3                3   \n",
       "520223  1242.852630               3                 3                3   \n",
       "520224  1426.042105               3                 3                3   \n",
       "520225  1146.783333               3                 3                3   \n",
       "\n",
       "        OverallScore       Segment  \n",
       "0                  3  В зоне риска  \n",
       "1                  3  В зоне риска  \n",
       "2                  3  В зоне риска  \n",
       "3                  3  В зоне риска  \n",
       "4                  3  В зоне риска  \n",
       "...              ...           ...  \n",
       "520221             9      Чемпионы  \n",
       "520222             9      Чемпионы  \n",
       "520223             9      Чемпионы  \n",
       "520224             9      Чемпионы  \n",
       "520225             9      Чемпионы  \n",
       "\n",
       "[520226 rows x 9 columns]"
      ]
     },
     "execution_count": 103,
     "metadata": {},
     "output_type": "execute_result"
    }
   ],
   "source": [
    "RFM"
   ]
  },
  {
   "cell_type": "code",
   "execution_count": 122,
   "metadata": {},
   "outputs": [
    {
     "data": {
      "image/png": "[encoded data removed]",
      "text/plain": [
       "<Figure size 720x648 with 1 Axes>"
      ]
     },
     "metadata": {
      "needs_background": "light"
     },
     "output_type": "display_data"
    }
   ],
   "source": [
    "import squarify \n",
    "\n",
    "data = RFM.groupby('Segment').size().reset_index(name='Counts')\n",
    "labels = data.apply(lambda s: str(s[0]) + \"\\n (\" + str(s[1]) + \")\", axis=1)\n",
    "size = data['Counts'].values.tolist()\n",
    "color = [plt.cm.Spectral(i/float(len(labels))) for i in range(len(labels))]\n",
    "\n",
    "# Plot\n",
    "plt.figure(figsize=(10,9))\n",
    "squarify.plot(sizes=size, label=labels, color=color, alpha=0.8, text_kwargs={'fontsize':14})\n",
    "\n",
    "# Decorate\n",
    "#plt.title('Древовидная карта сегментации клиентов', fontsize = 15)\n",
    "plt.axis('off')\n",
    "plt.show()"
   ]
  },
  {
   "cell_type": "code",
   "execution_count": 11,
   "metadata": {},
   "outputs": [],
   "source": [
    "RFM.to_csv('clients_RFM.csv',sep=';',index=False, header=True)\n",
    "clients_RFM = pd.read_csv('./clients_RFM.csv', sep = ';')"
   ]
  },
  {
   "cell_type": "code",
   "execution_count": 12,
   "metadata": {
    "scrolled": true
   },
   "outputs": [
    {
     "name": "stdout",
     "output_type": "stream",
     "text": [
      "Database opened successfully\n"
     ]
    }
   ],
   "source": [
    "#создание таблицы с сегментами в БД\n",
    "connection, cursor = db.connect_db()\n",
    "cursor.execute('''\n",
    "DROP TABLE IF EXISTS clients_RFM;\n",
    "\n",
    "CREATE TABLE clients_RFM(\n",
    "    customer_id VARCHAR,\n",
    "    recency INT,\n",
    "    frequency INT,\n",
    "    monetary REAL,\n",
    "    RecencyCluster INT,\n",
    "    FrequencyCluster INT,\n",
    "    MonetaryCluster INT,\n",
    "    OverallScore INT,\n",
    "    Segment VARCHAR\n",
    ")\n",
    "''')\n",
    "\n",
    "with open('./clients_RFM.csv') as clients_RFM:\n",
    "    for line in clients_RFM:\n",
    "        cursor.copy_from(clients_RFM, 'clients_RFM', \n",
    "            columns=(\n",
    "                'customer_id',\n",
    "                'recency' ,\n",
    "                'frequency',\n",
    "                'monetary',\n",
    "                'RecencyCluster' ,\n",
    "                'FrequencyCluster' ,\n",
    "                'MonetaryCluster' ,\n",
    "                'OverallScore' ,\n",
    "                'Segment'), sep=\";\", null='NULL')\n",
    "db.close_connection(connection, cursor)"
   ]
  },
  {
   "cell_type": "markdown",
   "metadata": {},
   "source": [
    "## ПРОВЕРКА ПРЕДЛОЖЕННЫХ ПРОМО И СЕГМЕНТОВ КЛИЕНТОВ"
   ]
  },
  {
   "cell_type": "markdown",
   "metadata": {},
   "source": [
    "### Кампания MBA"
   ]
  },
  {
   "cell_type": "code",
   "execution_count": 9,
   "metadata": {},
   "outputs": [
    {
     "name": "stdout",
     "output_type": "stream",
     "text": [
      "Database opened successfully\n"
     ]
    }
   ],
   "source": [
    "connection, cursor = db.connect_db()\n",
    "cursor.execute('''\n",
    "SELECT\n",
    "    t1.campaign_type,\n",
    "    t1.customer_id,\n",
    "    t1.discount_type1,\n",
    "    t1.promo_id,\n",
    "    t1.msg_text,\n",
    "    t1.Segment,\n",
    "    CASE\n",
    "        WHEN\n",
    "            billspromo.check_id LIKE '%'\n",
    "        THEN\n",
    "            1\n",
    "        ELSE\n",
    "            0\n",
    "        END con\n",
    "FROM\n",
    "    (SELECT\n",
    "        pers_offer.campaign_type,\n",
    "        pers_offer.offer_start_dt,\n",
    "        pers_offer.offer_end_dt,\n",
    "        pers_offer.customer_id,\n",
    "        pers_offer.discount_type1,\n",
    "        pers_offer.promo_id,\n",
    "        pers_offer.msg_text,\n",
    "        clients_RFM.Segment\n",
    "\n",
    "    FROM pers_offer LEFT JOIN (SELECT\n",
    "                                    clients_RFM.customer_id,\n",
    "                                    clients_RFM.Segment\n",
    "                                FROM clients_RFM) clients_RFM\n",
    "                                ON pers_offer.customer_id = \n",
    "                                   clients_RFM.customer_id\n",
    "    ) t1 LEFT JOIN (SELECT\n",
    "                        billspromo.check_id,\n",
    "                        billspromo.check_date,\n",
    "                        billspromo.customer_id,\n",
    "                        billspromo.promo_id\n",
    "                    FROM\n",
    "                        billspromo\n",
    "                    GROUP BY 1,2,3,4) billspromo\n",
    "                    ON (billspromo.promo_id = t1.promo_id \n",
    "                    AND billspromo.customer_id = t1.customer_id \n",
    "                    AND billspromo.check_date BETWEEN t1.offer_start_dt \n",
    "                    AND t1.offer_end_dt)\n",
    "WHERE t1.campaign_type = 'MBA'\n",
    "\n",
    "''')\n",
    "result = cursor.fetchall()\n",
    "db.close_connection(connection, cursor)\n",
    "promo_segments_MBA = pd.DataFrame(result, columns = ['campaign_type',\n",
    "                                                     'customer_id',\n",
    "                                                     'discount_type1',\n",
    "                                                     'promo_id',\n",
    "                                                     'msg_text',\n",
    "                                                     'Segment',\n",
    "                                                     'conversion'])"
   ]
  },
  {
   "cell_type": "code",
   "execution_count": 14,
   "metadata": {},
   "outputs": [
    {
     "name": "stdout",
     "output_type": "stream",
     "text": [
      "Не сегментировано: 7\n"
     ]
    }
   ],
   "source": [
    "#столько клиентов никак не сегментированы, так как у них не было покупок за последние пол года\n",
    "print('Не сегментировано:', promo_segments_MBA['Segment'].isna().sum())\n",
    "# заменяем пропуски на сегмент \"Ушедшие\", так как эти люди не покупали ничего последние пол года\n",
    "#(их нет в таблице bills)\n",
    "promo_segments_MBA.loc[promo_segments_MBA['Segment'].isna(), 'Segment'] = 'Ушедшие'"
   ]
  },
  {
   "cell_type": "code",
   "execution_count": 130,
   "metadata": {},
   "outputs": [
    {
     "data": {
      "text/html": [
       "<div>\n",
       "<style scoped>\n",
       "    .dataframe tbody tr th:only-of-type {\n",
       "        vertical-align: middle;\n",
       "    }\n",
       "\n",
       "    .dataframe tbody tr th {\n",
       "        vertical-align: top;\n",
       "    }\n",
       "\n",
       "    .dataframe thead th {\n",
       "        text-align: right;\n",
       "    }\n",
       "</style>\n",
       "<table border=\"1\" class=\"dataframe\">\n",
       "  <thead>\n",
       "    <tr style=\"text-align: right;\">\n",
       "      <th></th>\n",
       "      <th>conversion</th>\n",
       "      <th>count</th>\n",
       "    </tr>\n",
       "    <tr>\n",
       "      <th>Segment</th>\n",
       "      <th></th>\n",
       "      <th></th>\n",
       "    </tr>\n",
       "  </thead>\n",
       "  <tbody>\n",
       "    <tr>\n",
       "      <th>Бездействие</th>\n",
       "      <td>0.864362</td>\n",
       "      <td>1504</td>\n",
       "    </tr>\n",
       "    <tr>\n",
       "      <th>В зоне риска</th>\n",
       "      <td>1.416431</td>\n",
       "      <td>3177</td>\n",
       "    </tr>\n",
       "    <tr>\n",
       "      <th>Засыпающие</th>\n",
       "      <td>1.112100</td>\n",
       "      <td>2248</td>\n",
       "    </tr>\n",
       "    <tr>\n",
       "      <th>Постоянные клиенты</th>\n",
       "      <td>2.979684</td>\n",
       "      <td>2215</td>\n",
       "    </tr>\n",
       "    <tr>\n",
       "      <th>Ушедшие</th>\n",
       "      <td>0.000000</td>\n",
       "      <td>7</td>\n",
       "    </tr>\n",
       "    <tr>\n",
       "      <th>Чемпионы</th>\n",
       "      <td>3.278689</td>\n",
       "      <td>61</td>\n",
       "    </tr>\n",
       "  </tbody>\n",
       "</table>\n",
       "</div>"
      ],
      "text/plain": [
       "                    conversion  count\n",
       "Segment                              \n",
       "Бездействие           0.864362   1504\n",
       "В зоне риска          1.416431   3177\n",
       "Засыпающие            1.112100   2248\n",
       "Постоянные клиенты    2.979684   2215\n",
       "Ушедшие               0.000000      7\n",
       "Чемпионы              3.278689     61"
      ]
     },
     "execution_count": 130,
     "metadata": {},
     "output_type": "execute_result"
    }
   ],
   "source": [
    "pd.concat([promo_segments_MBA.groupby('Segment')['conversion'].mean()*100, promo_segments_MBA.groupby('Segment').size()], axis=1).rename(columns = {0:'count'})"
   ]
  },
  {
   "cell_type": "code",
   "execution_count": 123,
   "metadata": {},
   "outputs": [
    {
     "data": {
      "text/plain": [
       "Segment\n",
       "Бездействие           0.008644\n",
       "В зоне риска          0.014164\n",
       "Засыпающие            0.011121\n",
       "Постоянные клиенты    0.029797\n",
       "Ушедшие               0.000000\n",
       "Чемпионы              0.032787\n",
       "Name: conversion, dtype: float64"
      ]
     },
     "execution_count": 123,
     "metadata": {},
     "output_type": "execute_result"
    }
   ],
   "source": [
    "promo_segments_MBA.groupby('Segment')['conversion'].mean()"
   ]
  },
  {
   "cell_type": "code",
   "execution_count": 124,
   "metadata": {},
   "outputs": [
    {
     "data": {
      "text/plain": [
       "Segment\n",
       "Бездействие           1504\n",
       "В зоне риска          3177\n",
       "Засыпающие            2248\n",
       "Постоянные клиенты    2215\n",
       "Ушедшие                  7\n",
       "Чемпионы                61\n",
       "dtype: int64"
      ]
     },
     "execution_count": 124,
     "metadata": {},
     "output_type": "execute_result"
    }
   ],
   "source": [
    "promo_segments_MBA.groupby('Segment').size()"
   ]
  },
  {
   "cell_type": "code",
   "execution_count": 63,
   "metadata": {},
   "outputs": [],
   "source": [
    "# •\tMBA – кампания, направленная на расширение потребительской корзины, и как видно из таблицы,\n",
    "#она наиболее эффективна для постоянных клиентов и чемпионов\n",
    "# а от сообщений, отправленых ушедшим клиентам, которые вообще не активны как минимум пол года, конверсия =  0"
   ]
  },
  {
   "cell_type": "markdown",
   "metadata": {},
   "source": [
    "### CHURN сегментация "
   ]
  },
  {
   "cell_type": "code",
   "execution_count": 131,
   "metadata": {},
   "outputs": [
    {
     "name": "stdout",
     "output_type": "stream",
     "text": [
      "Database opened successfully\n"
     ]
    }
   ],
   "source": [
    "connection, cursor = db.connect_db()\n",
    "cursor.execute('''\n",
    "SELECT\n",
    "    t1.campaign_type,\n",
    "    t1.customer_id,\n",
    "    t1.discount_type1,\n",
    "    t1.promo_id,\n",
    "    t1.msg_text,\n",
    "    t1.Segment,\n",
    "    CASE\n",
    "        WHEN\n",
    "            billspromo.check_id LIKE '%'\n",
    "        THEN\n",
    "            1\n",
    "        ELSE\n",
    "            0\n",
    "        END con\n",
    "FROM\n",
    "    (SELECT\n",
    "        pers_offer.campaign_type,\n",
    "        pers_offer.offer_start_dt,\n",
    "        pers_offer.offer_end_dt,\n",
    "        pers_offer.customer_id,\n",
    "        pers_offer.discount_type1,\n",
    "        pers_offer.promo_id,\n",
    "        pers_offer.msg_text,\n",
    "        clients_RFM.Segment\n",
    "\n",
    "    FROM pers_offer LEFT JOIN (SELECT\n",
    "                                    clients_RFM.customer_id,\n",
    "                                    clients_RFM.Segment\n",
    "                                FROM clients_RFM) clients_RFM\n",
    "                                ON pers_offer.customer_id = clients_RFM.customer_id\n",
    "    ) t1 LEFT JOIN (SELECT\n",
    "                        billspromo.check_id,\n",
    "                        billspromo.check_date,\n",
    "                        billspromo.customer_id,\n",
    "                        billspromo.promo_id\n",
    "                    FROM\n",
    "                        billspromo\n",
    "                    GROUP BY 1,2,3,4) billspromo\n",
    "                    ON (billspromo.promo_id = t1.promo_id \n",
    "                    AND billspromo.customer_id = t1.customer_id \n",
    "                    AND billspromo.check_date BETWEEN t1.offer_start_dt AND t1.offer_end_dt)\n",
    "WHERE t1.campaign_type = 'Churn'\n",
    "\n",
    "''')\n",
    "result = cursor.fetchall()\n",
    "db.close_connection(connection, cursor)\n",
    "promo_segments_CHURN = pd.DataFrame(result, columns = ['campaign_type',\n",
    "                                                     'customer_id',\n",
    "                                                     'discount_type1',\n",
    "                                                     'promo_id',\n",
    "                                                     'msg_text',\n",
    "                                                     'Segment',\n",
    "                                                     'conversion'])"
   ]
  },
  {
   "cell_type": "code",
   "execution_count": 132,
   "metadata": {},
   "outputs": [
    {
     "name": "stdout",
     "output_type": "stream",
     "text": [
      "Не сегментировано: 724\n"
     ]
    }
   ],
   "source": [
    "#столько клиентов никак не сегментированы, так как у них не было покупок за последние пол года\n",
    "print('Не сегментировано:', promo_segments_CHURN['Segment'].isna().sum())\n",
    "# заменяем пропуски на сегмент \"Ушедшие\", так как эти люди не покупали ничего последние пол года\n",
    "#(их нет в таблице bills)\n",
    "promo_segments_CHURN.loc[promo_segments_CHURN['Segment'].isna(), 'Segment'] = 'Ушедшие'"
   ]
  },
  {
   "cell_type": "code",
   "execution_count": 134,
   "metadata": {},
   "outputs": [
    {
     "data": {
      "text/html": [
       "<div>\n",
       "<style scoped>\n",
       "    .dataframe tbody tr th:only-of-type {\n",
       "        vertical-align: middle;\n",
       "    }\n",
       "\n",
       "    .dataframe tbody tr th {\n",
       "        vertical-align: top;\n",
       "    }\n",
       "\n",
       "    .dataframe thead th {\n",
       "        text-align: right;\n",
       "    }\n",
       "</style>\n",
       "<table border=\"1\" class=\"dataframe\">\n",
       "  <thead>\n",
       "    <tr style=\"text-align: right;\">\n",
       "      <th></th>\n",
       "      <th>conversion</th>\n",
       "      <th>count</th>\n",
       "    </tr>\n",
       "    <tr>\n",
       "      <th>Segment</th>\n",
       "      <th></th>\n",
       "      <th></th>\n",
       "    </tr>\n",
       "  </thead>\n",
       "  <tbody>\n",
       "    <tr>\n",
       "      <th>Бездействие</th>\n",
       "      <td>1.710093</td>\n",
       "      <td>127303</td>\n",
       "    </tr>\n",
       "    <tr>\n",
       "      <th>В зоне риска</th>\n",
       "      <td>3.821124</td>\n",
       "      <td>177016</td>\n",
       "    </tr>\n",
       "    <tr>\n",
       "      <th>Засыпающие</th>\n",
       "      <td>5.498295</td>\n",
       "      <td>75678</td>\n",
       "    </tr>\n",
       "    <tr>\n",
       "      <th>Постоянные клиенты</th>\n",
       "      <td>7.460832</td>\n",
       "      <td>41041</td>\n",
       "    </tr>\n",
       "    <tr>\n",
       "      <th>Ушедшие</th>\n",
       "      <td>0.414365</td>\n",
       "      <td>724</td>\n",
       "    </tr>\n",
       "    <tr>\n",
       "      <th>Чемпионы</th>\n",
       "      <td>10.873786</td>\n",
       "      <td>515</td>\n",
       "    </tr>\n",
       "  </tbody>\n",
       "</table>\n",
       "</div>"
      ],
      "text/plain": [
       "                    conversion   count\n",
       "Segment                               \n",
       "Бездействие           1.710093  127303\n",
       "В зоне риска          3.821124  177016\n",
       "Засыпающие            5.498295   75678\n",
       "Постоянные клиенты    7.460832   41041\n",
       "Ушедшие               0.414365     724\n",
       "Чемпионы             10.873786     515"
      ]
     },
     "execution_count": 134,
     "metadata": {},
     "output_type": "execute_result"
    }
   ],
   "source": [
    "pd.concat([promo_segments_CHURN.groupby('Segment')['conversion'].mean()*100, promo_segments_CHURN.groupby('Segment').size()], axis=1).rename(columns = {0:'count'})"
   ]
  },
  {
   "cell_type": "code",
   "execution_count": 19,
   "metadata": {},
   "outputs": [
    {
     "data": {
      "text/plain": [
       "Segment\n",
       "Бездействие           0.017101\n",
       "В зоне риска          0.038211\n",
       "Засыпающие            0.054983\n",
       "Постоянные клиенты    0.074608\n",
       "Ушедшие               0.004144\n",
       "Чемпионы              0.108738\n",
       "Name: conversion, dtype: float64"
      ]
     },
     "execution_count": 19,
     "metadata": {},
     "output_type": "execute_result"
    }
   ],
   "source": [
    "promo_segments_CHURN.groupby('Segment')['conversion'].mean()"
   ]
  },
  {
   "cell_type": "code",
   "execution_count": 20,
   "metadata": {},
   "outputs": [
    {
     "data": {
      "text/plain": [
       "Segment\n",
       "Бездействие           127303\n",
       "В зоне риска          177016\n",
       "Засыпающие             75678\n",
       "Постоянные клиенты     41041\n",
       "Ушедшие                  724\n",
       "Чемпионы                 515\n",
       "dtype: int64"
      ]
     },
     "execution_count": 20,
     "metadata": {},
     "output_type": "execute_result"
    }
   ],
   "source": [
    "promo_segments_CHURN.groupby('Segment').size()"
   ]
  },
  {
   "cell_type": "code",
   "execution_count": 21,
   "metadata": {},
   "outputs": [],
   "source": [
    "# CHURN – кампания, направленная на клиентов отточников\n",
    "# 515 сообщения были отправлены чемпионам, которые явно отточниками не являются\n",
    "# а также 41041 сообщений отправленны постоянным клиентам"
   ]
  },
  {
   "cell_type": "markdown",
   "metadata": {},
   "source": [
    "### PTB сегментация"
   ]
  },
  {
   "cell_type": "code",
   "execution_count": 22,
   "metadata": {},
   "outputs": [
    {
     "name": "stdout",
     "output_type": "stream",
     "text": [
      "Database opened successfully\n"
     ]
    }
   ],
   "source": [
    "connection, cursor = db.connect_db()\n",
    "cursor.execute('''\n",
    "SELECT\n",
    "    t1.campaign_type,\n",
    "    t1.customer_id,\n",
    "    t1.discount_type1,\n",
    "    t1.promo_id,\n",
    "    t1.msg_text,\n",
    "    t1.Segment,\n",
    "    CASE\n",
    "        WHEN\n",
    "            billspromo.check_id LIKE '%'\n",
    "        THEN\n",
    "            1\n",
    "        ELSE\n",
    "            0\n",
    "        END con\n",
    "FROM\n",
    "    (SELECT\n",
    "        pers_offer.campaign_type,\n",
    "        pers_offer.offer_start_dt,\n",
    "        pers_offer.offer_end_dt,\n",
    "        pers_offer.customer_id,\n",
    "        pers_offer.discount_type1,\n",
    "        pers_offer.promo_id,\n",
    "        pers_offer.msg_text,\n",
    "        clients_RFM.Segment\n",
    "\n",
    "    FROM pers_offer LEFT JOIN (SELECT\n",
    "                                    clients_RFM.customer_id,\n",
    "                                    clients_RFM.Segment\n",
    "                                FROM clients_RFM) clients_RFM\n",
    "                                ON pers_offer.customer_id = clients_RFM.customer_id\n",
    "    ) t1 LEFT JOIN (SELECT\n",
    "                        billspromo.check_id,\n",
    "                        billspromo.check_date,\n",
    "                        billspromo.customer_id,\n",
    "                        billspromo.promo_id\n",
    "                    FROM\n",
    "                        billspromo\n",
    "                    GROUP BY 1,2,3,4) billspromo\n",
    "                    ON (billspromo.promo_id = t1.promo_id \n",
    "                    AND billspromo.customer_id = t1.customer_id \n",
    "                    AND billspromo.check_date BETWEEN t1.offer_start_dt AND t1.offer_end_dt)\n",
    "WHERE t1.campaign_type = 'PTB'\n",
    "\n",
    "''')\n",
    "result = cursor.fetchall()\n",
    "db.close_connection(connection, cursor)\n",
    "promo_segments_PTB = pd.DataFrame(result, columns = ['campaign_type',\n",
    "                                                     'customer_id',\n",
    "                                                     'discount_type1',\n",
    "                                                     'promo_id',\n",
    "                                                     'msg_text',\n",
    "                                                     'Segment',\n",
    "                                                     'conversion'])"
   ]
  },
  {
   "cell_type": "code",
   "execution_count": 23,
   "metadata": {},
   "outputs": [
    {
     "name": "stdout",
     "output_type": "stream",
     "text": [
      "Не сегментировано: 137\n"
     ]
    }
   ],
   "source": [
    "#столько клиентов никак не сегментированы, так как у них не было покупок за последние пол года\n",
    "print('Не сегментировано:', promo_segments_PTB['Segment'].isna().sum())\n",
    "# заменяем пропуски на сегмент \"Ушедшие\", так как эти люди не покупали ничего последние пол года\n",
    "#(их нет в таблице bills)\n",
    "promo_segments_PTB.loc[promo_segments_PTB['Segment'].isna(), 'Segment'] = 'Ушедшие'"
   ]
  },
  {
   "cell_type": "code",
   "execution_count": 137,
   "metadata": {},
   "outputs": [
    {
     "data": {
      "text/html": [
       "<div>\n",
       "<style scoped>\n",
       "    .dataframe tbody tr th:only-of-type {\n",
       "        vertical-align: middle;\n",
       "    }\n",
       "\n",
       "    .dataframe tbody tr th {\n",
       "        vertical-align: top;\n",
       "    }\n",
       "\n",
       "    .dataframe thead th {\n",
       "        text-align: right;\n",
       "    }\n",
       "</style>\n",
       "<table border=\"1\" class=\"dataframe\">\n",
       "  <thead>\n",
       "    <tr style=\"text-align: right;\">\n",
       "      <th></th>\n",
       "      <th>conversion</th>\n",
       "      <th>count</th>\n",
       "    </tr>\n",
       "    <tr>\n",
       "      <th>Segment</th>\n",
       "      <th></th>\n",
       "      <th></th>\n",
       "    </tr>\n",
       "  </thead>\n",
       "  <tbody>\n",
       "    <tr>\n",
       "      <th>Бездействие</th>\n",
       "      <td>1.828225</td>\n",
       "      <td>71873</td>\n",
       "    </tr>\n",
       "    <tr>\n",
       "      <th>В зоне риска</th>\n",
       "      <td>4.842280</td>\n",
       "      <td>214114</td>\n",
       "    </tr>\n",
       "    <tr>\n",
       "      <th>Засыпающие</th>\n",
       "      <td>7.115523</td>\n",
       "      <td>176909</td>\n",
       "    </tr>\n",
       "    <tr>\n",
       "      <th>Постоянные клиенты</th>\n",
       "      <td>8.987985</td>\n",
       "      <td>203327</td>\n",
       "    </tr>\n",
       "    <tr>\n",
       "      <th>Ушедшие</th>\n",
       "      <td>0.000000</td>\n",
       "      <td>137</td>\n",
       "    </tr>\n",
       "    <tr>\n",
       "      <th>Чемпионы</th>\n",
       "      <td>12.026862</td>\n",
       "      <td>6552</td>\n",
       "    </tr>\n",
       "  </tbody>\n",
       "</table>\n",
       "</div>"
      ],
      "text/plain": [
       "                    conversion   count\n",
       "Segment                               \n",
       "Бездействие           1.828225   71873\n",
       "В зоне риска          4.842280  214114\n",
       "Засыпающие            7.115523  176909\n",
       "Постоянные клиенты    8.987985  203327\n",
       "Ушедшие               0.000000     137\n",
       "Чемпионы             12.026862    6552"
      ]
     },
     "execution_count": 137,
     "metadata": {},
     "output_type": "execute_result"
    }
   ],
   "source": [
    "pd.concat([promo_segments_PTB.groupby('Segment')['conversion'].mean()*100, promo_segments_PTB.groupby('Segment').size()], axis=1).rename(columns = {0:'count'})"
   ]
  },
  {
   "cell_type": "code",
   "execution_count": 24,
   "metadata": {},
   "outputs": [
    {
     "data": {
      "text/plain": [
       "Segment\n",
       "Бездействие           0.018282\n",
       "В зоне риска          0.048423\n",
       "Засыпающие            0.071155\n",
       "Постоянные клиенты    0.089880\n",
       "Ушедшие               0.000000\n",
       "Чемпионы              0.120269\n",
       "Name: conversion, dtype: float64"
      ]
     },
     "execution_count": 24,
     "metadata": {},
     "output_type": "execute_result"
    }
   ],
   "source": [
    "promo_segments_PTB.groupby('Segment')['conversion'].mean()"
   ]
  },
  {
   "cell_type": "code",
   "execution_count": 25,
   "metadata": {},
   "outputs": [
    {
     "data": {
      "text/plain": [
       "Segment\n",
       "Бездействие            71873\n",
       "В зоне риска          214114\n",
       "Засыпающие            176909\n",
       "Постоянные клиенты    203327\n",
       "Ушедшие                  137\n",
       "Чемпионы                6552\n",
       "dtype: int64"
      ]
     },
     "execution_count": 25,
     "metadata": {},
     "output_type": "execute_result"
    }
   ],
   "source": [
    "promo_segments_PTB.groupby('Segment').size()"
   ]
  },
  {
   "cell_type": "code",
   "execution_count": null,
   "metadata": {},
   "outputs": [],
   "source": [
    "#Кампания РТВ направленна на предложение товара, который клиент наиболее склонен купить\n",
    "# для ушедших клиентов из 137 отправленных сообщений ни одно предложение не сконветировалось\n",
    "# возможно имеет смысл перенести эту группу клиентов в кампанию CHURN"
   ]
  },
  {
   "cell_type": "markdown",
   "metadata": {},
   "source": [
    "# Влияние времени отправки сообщения на конверсию"
   ]
  },
  {
   "cell_type": "code",
   "execution_count": 29,
   "metadata": {},
   "outputs": [
    {
     "name": "stdout",
     "output_type": "stream",
     "text": [
      "Database opened successfully\n"
     ]
    }
   ],
   "source": [
    "connection, cursor = db.connect_db()\n",
    "cursor.execute('''\n",
    "SELECT\n",
    "    t1.customer_id,\n",
    "    t1.CAMPAIGN_TYPE,\n",
    "    t1.discount_type1,\n",
    "    t1.discount_amt,\n",
    "    t1.d,\n",
    "    t1.h,\n",
    "    t1.min,\n",
    "    t1.msg_text,\n",
    "    t1.con,\n",
    "    t2.segment\n",
    "FROM \n",
    "    (SELECT \n",
    "        pers_offer.customer_id,\n",
    "        pers_offer.CAMPAIGN_TYPE,\n",
    "        pers_offer.discount_type1,\n",
    "        pers_offer.discount_amt,\n",
    "        EXTRACT(DOW FROM(pers_offer.RESPONSE_DTTM)) d,\n",
    "        EXTRACT(HOUR FROM(pers_offer.RESPONSE_DTTM)) h,\n",
    "        EXTRACT(MINUTE FROM(pers_offer.RESPONSE_DTTM)) min,\n",
    "        substring(msg_text, '^[\\w\"%]*\\s[\\w!%-]*\\s[^\\wскидка|^\\wСКИДКА]*') msg_text,\n",
    "        CASE\n",
    "            WHEN\n",
    "                billspromo.check_id LIKE '%'\n",
    "            THEN\n",
    "                1\n",
    "            ELSE\n",
    "                0\n",
    "            END con\n",
    "    FROM pers_offer LEFT JOIN (SELECT\n",
    "                                billspromo.check_id,\n",
    "                                billspromo.check_date,\n",
    "                                billspromo.customer_id,\n",
    "                                billspromo.promo_id\n",
    "                            FROM\n",
    "                                billspromo\n",
    "                            GROUP BY 1,2,3,4) billspromo\n",
    "                            ON (billspromo.promo_id = pers_offer.promo_id \n",
    "                            AND billspromo.customer_id = pers_offer.customer_id \n",
    "                            AND billspromo.check_date BETWEEN pers_offer.offer_start_dt \n",
    "                                                          AND pers_offer.offer_end_dt)\n",
    "    ) t1 LEFT JOIN (SELECT\n",
    "                        clients_RFM.customer_id,\n",
    "                        clients_RFM.Segment\n",
    "                    FROM\n",
    "                       clients_RFM ) t2\n",
    "                    ON (t2.customer_id = t1.customer_id)\n",
    "\n",
    "GROUP BY 1,2,3,4,5,6,7,8,9,10    \n",
    "''')\n",
    "result = cursor.fetchall()\n",
    "db.close_connection(connection, cursor)\n",
    "timest = pd.DataFrame(result, columns = ['customer_id',\n",
    "                                         'CAMPAIGN_TYPE',\n",
    "                                         'discount_type1',\n",
    "                                         'discount_amt',\n",
    "                                         'dow',\n",
    "                                         'hour',\n",
    "                                         'minute',\n",
    "                                        'msg_text',\n",
    "                                        'conversion',\n",
    "                                        'segment'])"
   ]
  },
  {
   "cell_type": "code",
   "execution_count": 30,
   "metadata": {},
   "outputs": [
    {
     "data": {
      "text/plain": [
       "1129448"
      ]
     },
     "execution_count": 30,
     "metadata": {},
     "output_type": "execute_result"
    }
   ],
   "source": [
    "timest.groupby('msg_text').size().sum()"
   ]
  },
  {
   "cell_type": "code",
   "execution_count": 207,
   "metadata": {},
   "outputs": [
    {
     "data": {
      "image/png": "[encoded data removed]",
      "text/plain": [
       "<Figure size 800x400 with 1 Axes>"
      ]
     },
     "metadata": {
      "needs_background": "light"
     },
     "output_type": "display_data"
    }
   ],
   "source": [
    "df = (timest.groupby('hour').mean()['conversion']*100).reset_index(name='conversion')\n",
    "text = df['hour']\n",
    "plt.figure(figsize=(10, 5), dpi= 80)\n",
    "plt.bar(text, df['conversion'],width=.5 , color = 'skyblue', edgecolor='black')\n",
    "plt.ylabel('Конверсия (%) ', fontsize=20)\n",
    "plt.xlabel('Час отправки СМС', fontsize=20)\n",
    "plt.show()"
   ]
  },
  {
   "cell_type": "code",
   "execution_count": 138,
   "metadata": {},
   "outputs": [
    {
     "data": {
      "text/html": [
       "<div>\n",
       "<style scoped>\n",
       "    .dataframe tbody tr th:only-of-type {\n",
       "        vertical-align: middle;\n",
       "    }\n",
       "\n",
       "    .dataframe tbody tr th {\n",
       "        vertical-align: top;\n",
       "    }\n",
       "\n",
       "    .dataframe thead th {\n",
       "        text-align: right;\n",
       "    }\n",
       "</style>\n",
       "<table border=\"1\" class=\"dataframe\">\n",
       "  <thead>\n",
       "    <tr style=\"text-align: right;\">\n",
       "      <th></th>\n",
       "      <th>conversion</th>\n",
       "      <th>count</th>\n",
       "    </tr>\n",
       "    <tr>\n",
       "      <th>hour</th>\n",
       "      <th></th>\n",
       "      <th></th>\n",
       "    </tr>\n",
       "  </thead>\n",
       "  <tbody>\n",
       "    <tr>\n",
       "      <th>1.0</th>\n",
       "      <td>0.000000</td>\n",
       "      <td>1</td>\n",
       "    </tr>\n",
       "    <tr>\n",
       "      <th>2.0</th>\n",
       "      <td>5.824583</td>\n",
       "      <td>16190</td>\n",
       "    </tr>\n",
       "    <tr>\n",
       "      <th>3.0</th>\n",
       "      <td>0.000000</td>\n",
       "      <td>7</td>\n",
       "    </tr>\n",
       "    <tr>\n",
       "      <th>4.0</th>\n",
       "      <td>0.000000</td>\n",
       "      <td>3</td>\n",
       "    </tr>\n",
       "    <tr>\n",
       "      <th>5.0</th>\n",
       "      <td>0.000000</td>\n",
       "      <td>7</td>\n",
       "    </tr>\n",
       "    <tr>\n",
       "      <th>6.0</th>\n",
       "      <td>0.000000</td>\n",
       "      <td>3</td>\n",
       "    </tr>\n",
       "    <tr>\n",
       "      <th>7.0</th>\n",
       "      <td>4.077432</td>\n",
       "      <td>71908</td>\n",
       "    </tr>\n",
       "    <tr>\n",
       "      <th>8.0</th>\n",
       "      <td>3.845814</td>\n",
       "      <td>203650</td>\n",
       "    </tr>\n",
       "    <tr>\n",
       "      <th>9.0</th>\n",
       "      <td>4.667927</td>\n",
       "      <td>98352</td>\n",
       "    </tr>\n",
       "    <tr>\n",
       "      <th>10.0</th>\n",
       "      <td>5.549854</td>\n",
       "      <td>226060</td>\n",
       "    </tr>\n",
       "    <tr>\n",
       "      <th>11.0</th>\n",
       "      <td>5.681072</td>\n",
       "      <td>251361</td>\n",
       "    </tr>\n",
       "    <tr>\n",
       "      <th>12.0</th>\n",
       "      <td>4.872613</td>\n",
       "      <td>164224</td>\n",
       "    </tr>\n",
       "    <tr>\n",
       "      <th>13.0</th>\n",
       "      <td>4.013097</td>\n",
       "      <td>43981</td>\n",
       "    </tr>\n",
       "    <tr>\n",
       "      <th>14.0</th>\n",
       "      <td>4.492768</td>\n",
       "      <td>80062</td>\n",
       "    </tr>\n",
       "    <tr>\n",
       "      <th>15.0</th>\n",
       "      <td>4.514147</td>\n",
       "      <td>59236</td>\n",
       "    </tr>\n",
       "    <tr>\n",
       "      <th>16.0</th>\n",
       "      <td>4.257269</td>\n",
       "      <td>19637</td>\n",
       "    </tr>\n",
       "    <tr>\n",
       "      <th>17.0</th>\n",
       "      <td>4.500053</td>\n",
       "      <td>18822</td>\n",
       "    </tr>\n",
       "    <tr>\n",
       "      <th>18.0</th>\n",
       "      <td>5.602241</td>\n",
       "      <td>6426</td>\n",
       "    </tr>\n",
       "    <tr>\n",
       "      <th>19.0</th>\n",
       "      <td>6.772908</td>\n",
       "      <td>1757</td>\n",
       "    </tr>\n",
       "    <tr>\n",
       "      <th>20.0</th>\n",
       "      <td>0.000000</td>\n",
       "      <td>6</td>\n",
       "    </tr>\n",
       "    <tr>\n",
       "      <th>21.0</th>\n",
       "      <td>0.000000</td>\n",
       "      <td>3</td>\n",
       "    </tr>\n",
       "    <tr>\n",
       "      <th>22.0</th>\n",
       "      <td>0.000000</td>\n",
       "      <td>2</td>\n",
       "    </tr>\n",
       "    <tr>\n",
       "      <th>23.0</th>\n",
       "      <td>5.972394</td>\n",
       "      <td>11302</td>\n",
       "    </tr>\n",
       "  </tbody>\n",
       "</table>\n",
       "</div>"
      ],
      "text/plain": [
       "      conversion   count\n",
       "hour                    \n",
       "1.0     0.000000       1\n",
       "2.0     5.824583   16190\n",
       "3.0     0.000000       7\n",
       "4.0     0.000000       3\n",
       "5.0     0.000000       7\n",
       "6.0     0.000000       3\n",
       "7.0     4.077432   71908\n",
       "8.0     3.845814  203650\n",
       "9.0     4.667927   98352\n",
       "10.0    5.549854  226060\n",
       "11.0    5.681072  251361\n",
       "12.0    4.872613  164224\n",
       "13.0    4.013097   43981\n",
       "14.0    4.492768   80062\n",
       "15.0    4.514147   59236\n",
       "16.0    4.257269   19637\n",
       "17.0    4.500053   18822\n",
       "18.0    5.602241    6426\n",
       "19.0    6.772908    1757\n",
       "20.0    0.000000       6\n",
       "21.0    0.000000       3\n",
       "22.0    0.000000       2\n",
       "23.0    5.972394   11302"
      ]
     },
     "execution_count": 138,
     "metadata": {},
     "output_type": "execute_result"
    }
   ],
   "source": [
    "# конверсия в % от часа отправки сообщения\n",
    "pd.concat([timest.groupby('hour')['conversion'].mean()*100, timest.groupby('hour').size()], axis=1).rename(columns = {0:'count'})"
   ]
  },
  {
   "cell_type": "code",
   "execution_count": null,
   "metadata": {},
   "outputs": [],
   "source": [
    "# сообщения,в 2,3,4,5,6,20,21,22 часа - без конверсии\n",
    "#но для адекватной оценки конверсии, не достаточно количества отправленых сообщений в это время "
   ]
  },
  {
   "cell_type": "markdown",
   "metadata": {},
   "source": [
    "## Размер и тип скидки скидки"
   ]
  },
  {
   "cell_type": "code",
   "execution_count": 227,
   "metadata": {},
   "outputs": [
    {
     "data": {
      "text/plain": [
       "discount_type1\n",
       "1    4.258160\n",
       "2    4.876858\n",
       "Name: conversion, dtype: float64"
      ]
     },
     "execution_count": 227,
     "metadata": {},
     "output_type": "execute_result"
    }
   ],
   "source": [
    "timest.groupby('discount_type1')['conversion'].mean()*100"
   ]
  },
  {
   "cell_type": "code",
   "execution_count": 228,
   "metadata": {},
   "outputs": [
    {
     "data": {
      "text/plain": [
       "discount_amt\n",
       "15.0    7.248046\n",
       "20.0    4.151130\n",
       "25.0    3.986539\n",
       "30.0    3.492998\n",
       "35.0    5.520241\n",
       "40.0    6.787931\n",
       "50.0    0.000000\n",
       "Name: conversion, dtype: float64"
      ]
     },
     "execution_count": 228,
     "metadata": {},
     "output_type": "execute_result"
    }
   ],
   "source": [
    "timest.groupby('discount_amt')['conversion'].mean()*100"
   ]
  },
  {
   "cell_type": "code",
   "execution_count": 231,
   "metadata": {},
   "outputs": [
    {
     "data": {
      "text/plain": [
       "discount_amt  discount_type1\n",
       "15.0          2                 7.248046\n",
       "20.0          2                 4.151130\n",
       "25.0          1                 0.808898\n",
       "              2                 3.994261\n",
       "30.0          1                 2.727273\n",
       "              2                 3.499177\n",
       "35.0          1                 0.000000\n",
       "              2                 5.520521\n",
       "40.0          2                 6.787931\n",
       "50.0          2                 0.000000\n",
       "Name: conversion, dtype: float64"
      ]
     },
     "execution_count": 231,
     "metadata": {},
     "output_type": "execute_result"
    }
   ],
   "source": [
    "timest.groupby(['discount_amt', 'discount_type1' ])['conversion'].mean()*100"
   ]
  },
  {
   "cell_type": "markdown",
   "metadata": {},
   "source": [
    "#     -----------------------------------------------------------------------------"
   ]
  },
  {
   "cell_type": "markdown",
   "metadata": {},
   "source": [
    "## Текст сообщения"
   ]
  },
  {
   "cell_type": "code",
   "execution_count": 149,
   "metadata": {},
   "outputs": [
    {
     "data": {
      "image/png": "[encoded data removed]",
      "text/plain": [
       "<Figure size 800x560 with 1 Axes>"
      ]
     },
     "metadata": {
      "needs_background": "light"
     },
     "output_type": "display_data"
    }
   ],
   "source": [
    "df2 = timest.groupby('msg_text').mean()['conversion'].reset_index(name='conversion')\n",
    "text = df2['msg_text']\n",
    "plt.figure(figsize=(10, 7), dpi= 80)\n",
    "plt.bar(text, df2['conversion'],width=.5, color = 'skyblue' )\n",
    "for i, val in enumerate(df2['conversion'].values):\n",
    "    plt.text(i, val, round(float(val), 3), horizontalalignment='center', verticalalignment='bottom', fontdict={'fontweight':500, 'size':10})\n",
    "plt.gca().set_xticklabels(text, rotation=60, horizontalalignment= 'right')\n",
    "plt.show()"
   ]
  },
  {
   "cell_type": "markdown",
   "metadata": {},
   "source": [
    "## ANOVA"
   ]
  },
  {
   "cell_type": "code",
   "execution_count": 42,
   "metadata": {},
   "outputs": [
    {
     "name": "stdout",
     "output_type": "stream",
     "text": [
      "30.0\n",
      "F_onewayResult(statistic=462.8199362273486, pvalue=0.0)\n",
      "15.0\n"
     ]
    },
    {
     "name": "stderr",
     "output_type": "stream",
     "text": [
      "/Library/Frameworks/Python.framework/Versions/3.7/lib/python3.7/site-packages/scipy/stats/stats.py:3339: RuntimeWarning: invalid value encountered in double_scalars\n",
      "  ssbn += _square_of_sums(a - offset) / len(a)\n"
     ]
    },
    {
     "name": "stdout",
     "output_type": "stream",
     "text": [
      "F_onewayResult(statistic=nan, pvalue=nan)\n",
      "40.0\n",
      "F_onewayResult(statistic=688.7597534920415, pvalue=0.0)\n",
      "20.0\n",
      "F_onewayResult(statistic=989.5175435427983, pvalue=5.467949585696333e-217)\n",
      "25.0\n",
      "F_onewayResult(statistic=98.5156419382654, pvalue=2.3256733030170898e-124)\n",
      "35.0\n",
      "F_onewayResult(statistic=9.271282759492237, pvalue=1.7361551728757193e-07)\n"
     ]
    }
   ],
   "source": [
    "# ANOVA для всех видов сообщений, сгруппированных по размеру скидки\n",
    "for i in timest['discount_amt'].unique()[1:-1]:\n",
    "    print(i)\n",
    "    mess = timest['msg_text'].loc[timest['discount_amt'] ==i].unique()[1:]\n",
    "    print(stats.f_oneway(*(timest[timest['msg_text'] == x]['conversion'] for x in mess)))"
   ]
  },
  {
   "cell_type": "code",
   "execution_count": 43,
   "metadata": {},
   "outputs": [
    {
     "data": {
      "text/plain": [
       "F_onewayResult(statistic=177.32779385716208, pvalue=1.624519328558481e-226)"
      ]
     },
     "execution_count": 43,
     "metadata": {},
     "output_type": "execute_result"
    }
   ],
   "source": [
    "days_of_week = timest['dow'].unique()\n",
    "stats.f_oneway(*(timest[timest['dow'] == i]['conversion'] for i in days_of_week))"
   ]
  },
  {
   "cell_type": "code",
   "execution_count": 45,
   "metadata": {},
   "outputs": [
    {
     "data": {
      "text/plain": [
       "F_onewayResult(statistic=62.15220905187376, pvalue=1.0811062897815982e-275)"
      ]
     },
     "execution_count": 45,
     "metadata": {},
     "output_type": "execute_result"
    }
   ],
   "source": [
    "hours = timest['hour'].unique()\n",
    "stats.f_oneway(*(timest[timest['hour'] == i]['conversion'] for i in hours))"
   ]
  },
  {
   "cell_type": "code",
   "execution_count": 46,
   "metadata": {},
   "outputs": [
    {
     "data": {
      "text/plain": [
       "F_onewayResult(statistic=807.0203922597028, pvalue=0.0)"
      ]
     },
     "execution_count": 46,
     "metadata": {},
     "output_type": "execute_result"
    }
   ],
   "source": [
    "discount = timest['discount_amt'].unique()[1:]\n",
    "stats.f_oneway(*(timest[timest['discount_amt'] == i]['conversion'] for i in discount))"
   ]
  },
  {
   "cell_type": "code",
   "execution_count": null,
   "metadata": {},
   "outputs": [],
   "source": [
    "#Тест ANOVA показал, что существуют значимые различия средних и по видам текста в сообщениях,\n",
    "#и по дням недели, и по часам отправки сообщений"
   ]
  },
  {
   "cell_type": "code",
   "execution_count": null,
   "metadata": {},
   "outputs": [],
   "source": [
    "#Далее будет проведен Anova для сгруппированных видов текста, вроде \"Только вам и Только Вам\" и т.д."
   ]
  },
  {
   "cell_type": "code",
   "execution_count": null,
   "metadata": {},
   "outputs": [],
   "source": []
  },
  {
   "cell_type": "markdown",
   "metadata": {},
   "source": [
    "## Возраст клиентов"
   ]
  },
  {
   "cell_type": "code",
   "execution_count": 48,
   "metadata": {},
   "outputs": [],
   "source": [
    "clients = pd.read_csv('./data/clients.csv', sep = ';')"
   ]
  },
  {
   "cell_type": "code",
   "execution_count": 52,
   "metadata": {},
   "outputs": [
    {
     "data": {
      "text/plain": [
       "array([ 68.,  32.,  61.,  60.,  79.,  40.,  27.,  34.,  36.,  45.,  22.,\n",
       "        38.,  76.,  42.,  69.,  35.,  52.,  26.,  59.,  75.,  56.,  29.,\n",
       "        51.,  54.,  43.,  49.,  18.,  33.,  57.,  24.,  37.,  19.,  30.,\n",
       "        48.,  55.,  41.,  78.,  65.,  20.,  64.,  25.,  89.,  39.,  58.,\n",
       "        31.,  63.,  46.,  nan,  28.,  66.,  72.,  44.,  14.,  23.,  21.,\n",
       "        17.,  74.,  53.,  47.,  16.,  73.,  80.,  67.,  13.,  50.,  70.,\n",
       "        62.,  82.,  83.,  71.,  81.,  84.,  77.,  15., -70.,   1.,  11.,\n",
       "       120.,   0.,  12.,  85.,   9., 119.,   5.,   6., 114.,  92.,  91.,\n",
       "       117.,  87.,  86.,  88.,  90., 118.,  10.,   3.,  -5.,  95., 115.,\n",
       "        98.,  93.,   8.,   2., 109., 104., -68.,   7.,   4., 113., -60.,\n",
       "       106., 110.,  -2., 100.,  94., 101.,  -1., 111., 116., -63., -25.,\n",
       "       112., -71.,  99.,  97., -10., 107.])"
      ]
     },
     "execution_count": 52,
     "metadata": {},
     "output_type": "execute_result"
    }
   ],
   "source": [
    "clients['age'].unique()"
   ]
  },
  {
   "cell_type": "code",
   "execution_count": 59,
   "metadata": {},
   "outputs": [
    {
     "data": {
      "text/plain": [
       "1122     -70.0\n",
       "89053     -5.0\n",
       "136154   -68.0\n",
       "206627   -60.0\n",
       "218752    -2.0\n",
       "238305    -1.0\n",
       "290341   -63.0\n",
       "312597   -25.0\n",
       "329585   -71.0\n",
       "438098   -10.0\n",
       "457546    -1.0\n",
       "Name: age, dtype: float64"
      ]
     },
     "execution_count": 59,
     "metadata": {},
     "output_type": "execute_result"
    }
   ],
   "source": [
    "# у этих клиентов отрицательный возраст\n",
    "clients.loc[clients['age'] <0 ]['age']"
   ]
  },
  {
   "cell_type": "code",
   "execution_count": 57,
   "metadata": {},
   "outputs": [
    {
     "data": {
      "text/plain": [
       "(244,)"
      ]
     },
     "execution_count": 57,
     "metadata": {},
     "output_type": "execute_result"
    }
   ],
   "source": [
    "# у 224 клиентов возраст больше 100 лет\n",
    "clients.loc[clients['age'] >100 ]['age'].shape"
   ]
  },
  {
   "cell_type": "code",
   "execution_count": null,
   "metadata": {},
   "outputs": [],
   "source": [
    "# у 887 клиентов возраст меньше 14 лет\n",
    "clients.loc[clients['age'] < 14 ]['age'].shape"
   ]
  },
  {
   "cell_type": "code",
   "execution_count": null,
   "metadata": {},
   "outputs": [],
   "source": [
    "#причины отрицательного возраста:\n",
    "#возможно сбой при выгрузке?\n",
    "#верхняя граница года рождения указана неправильно в системе? (поэтому и клиенты с возрастом 2 года и т.д. )\n"
   ]
  },
  {
   "cell_type": "code",
   "execution_count": null,
   "metadata": {},
   "outputs": [],
   "source": []
  },
  {
   "cell_type": "markdown",
   "metadata": {},
   "source": [
    "### ТОВАРНЫЕ ГРУППЫ"
   ]
  },
  {
   "cell_type": "markdown",
   "metadata": {},
   "source": [
    "### FULL (Товарные группы)"
   ]
  },
  {
   "cell_type": "code",
   "execution_count": 19,
   "metadata": {},
   "outputs": [
    {
     "name": "stdout",
     "output_type": "stream",
     "text": [
      "Database opened successfully\n"
     ]
    }
   ],
   "source": [
    "connection, cursor = db.connect_db()\n",
    "cursor.execute('''\n",
    "SELECT\n",
    "    t1.campaign_type,\n",
    "    t1.customer_id,\n",
    "    t1.discount_type1,\n",
    "    t1.discount_amt,\n",
    "    t1.promo_id,\n",
    "    t1.msg_text,\n",
    "    t1.item2,\n",
    "    products.product_direction_name,\n",
    "    products.category_name,    \n",
    "    t1.con\n",
    "FROM\n",
    "    (SELECT\n",
    "        pers_offer.campaign_type,\n",
    "        pers_offer.offer_start_dt,\n",
    "        pers_offer.offer_end_dt,\n",
    "        pers_offer.customer_id,\n",
    "        pers_offer.discount_type1,\n",
    "        pers_offer.discount_amt,\n",
    "        pers_offer.promo_id,\n",
    "        pers_offer.msg_text,\n",
    "        substring(pers_offer.item2, '^\\w\\d+') item2,\n",
    "        CASE\n",
    "            WHEN\n",
    "                billspromo.check_id LIKE '%'\n",
    "            THEN\n",
    "                1\n",
    "            ELSE\n",
    "                0\n",
    "            END con\n",
    "\n",
    "    FROM pers_offer LEFT JOIN (SELECT\n",
    "                        billspromo.check_id,\n",
    "                        billspromo.check_date,\n",
    "                        billspromo.customer_id,\n",
    "                        billspromo.promo_id\n",
    "                    FROM\n",
    "                        billspromo\n",
    "                    GROUP BY 1,2,3,4) billspromo\n",
    "                    ON (billspromo.promo_id = pers_offer.promo_id \n",
    "                    AND billspromo.customer_id = pers_offer.customer_id \n",
    "                    AND billspromo.check_date BETWEEN pers_offer.offer_start_dt \n",
    "                    AND pers_offer.offer_end_dt)\n",
    "        WHERE pers_offer.campaign_type = 'PTB' \n",
    "        OR pers_offer.campaign_type = 'MBA' \n",
    "        OR pers_offer.campaign_type = 'Churn'\n",
    "        GROUP BY 1,2,3,4,5,6,7,8,9,10\n",
    ") t1 INNER JOIN (SELECT\n",
    "                    products.category_cd,\n",
    "                    products.group_cd,\n",
    "                    products.subgroup_cd,\n",
    "                    products.product_direction_name,\n",
    "                    products.category_name\n",
    "                FROM products) products\n",
    "                ON (t1.item2 = products.category_cd OR\n",
    "                    t1.item2 = products.group_cd OR\n",
    "                    t1.item2 = products.subgroup_cd)\n",
    "GROUP BY 1,2,3,4,5,6,7,8,9,10\n",
    "''')\n",
    "result = cursor.fetchall()\n",
    "db.close_connection(connection, cursor)\n",
    "pers_full = pd.DataFrame(result, columns = ['campaign_type',\n",
    "                                            'customer_id',\n",
    "                                            'discount_type1',\n",
    "                                            'discount_amt',\n",
    "                                            'promo_id',\n",
    "                                            'msg_text',\n",
    "                                            'item2',\n",
    "                                            'product_direction_name',\n",
    "                                            'category_name',\n",
    "                                            'conversion'])"
   ]
  },
  {
   "cell_type": "code",
   "execution_count": 22,
   "metadata": {},
   "outputs": [],
   "source": [
    "pers_full.to_csv('pers_full.csv',sep=';',index=True, header=True)"
   ]
  },
  {
   "cell_type": "code",
   "execution_count": 23,
   "metadata": {},
   "outputs": [
    {
     "data": {
      "text/html": [
       "<div>\n",
       "<style scoped>\n",
       "    .dataframe tbody tr th:only-of-type {\n",
       "        vertical-align: middle;\n",
       "    }\n",
       "\n",
       "    .dataframe tbody tr th {\n",
       "        vertical-align: top;\n",
       "    }\n",
       "\n",
       "    .dataframe thead th {\n",
       "        text-align: right;\n",
       "    }\n",
       "</style>\n",
       "<table border=\"1\" class=\"dataframe\">\n",
       "  <thead>\n",
       "    <tr style=\"text-align: right;\">\n",
       "      <th></th>\n",
       "      <th>campaign_type</th>\n",
       "      <th>customer_id</th>\n",
       "      <th>discount_type1</th>\n",
       "      <th>discount_amt</th>\n",
       "      <th>promo_id</th>\n",
       "      <th>msg_text</th>\n",
       "      <th>item2</th>\n",
       "      <th>product_direction_name</th>\n",
       "      <th>category_name</th>\n",
       "      <th>conversion</th>\n",
       "    </tr>\n",
       "  </thead>\n",
       "  <tbody>\n",
       "    <tr>\n",
       "      <th>0</th>\n",
       "      <td>Churn</td>\n",
       "      <td>00003187-2797-47f5-9ff1-5c2a3770c03c-ws</td>\n",
       "      <td>2</td>\n",
       "      <td>30.0</td>\n",
       "      <td>681593</td>\n",
       "      <td>Только вам -30% на бальзамы для волос до 6.03!...</td>\n",
       "      <td>S10534</td>\n",
       "      <td>КРАСОТА</td>\n",
       "      <td>[уход за волосами]для волос</td>\n",
       "      <td>0</td>\n",
       "    </tr>\n",
       "    <tr>\n",
       "      <th>1</th>\n",
       "      <td>Churn</td>\n",
       "      <td>0000431c-4744-4c82-bdca-0859de61566c-ws</td>\n",
       "      <td>2</td>\n",
       "      <td>30.0</td>\n",
       "      <td>681593</td>\n",
       "      <td>Только вам -30% на бальзамы для волос до 26.11...</td>\n",
       "      <td>S10534</td>\n",
       "      <td>КРАСОТА</td>\n",
       "      <td>[уход за волосами]для волос</td>\n",
       "      <td>0</td>\n",
       "    </tr>\n",
       "    <tr>\n",
       "      <th>2</th>\n",
       "      <td>Churn</td>\n",
       "      <td>0000e13f-2e0e-43d4-88da-545e1685eff9-ws</td>\n",
       "      <td>2</td>\n",
       "      <td>25.0</td>\n",
       "      <td>681593</td>\n",
       "      <td>Только вам -25% на зубные щетки до 6.03! Улыбк...</td>\n",
       "      <td>G1213</td>\n",
       "      <td>ЧИСТОТА</td>\n",
       "      <td>[уход за полостью рта]</td>\n",
       "      <td>0</td>\n",
       "    </tr>\n",
       "    <tr>\n",
       "      <th>3</th>\n",
       "      <td>Churn</td>\n",
       "      <td>0000e13f-2e0e-43d4-88da-545e1685eff9-ws</td>\n",
       "      <td>2</td>\n",
       "      <td>35.0</td>\n",
       "      <td>681593</td>\n",
       "      <td>Только вам -35% на средства для ногтей до 21.0...</td>\n",
       "      <td>G1062</td>\n",
       "      <td>ДЕКОР</td>\n",
       "      <td>[декоративная косметика]</td>\n",
       "      <td>0</td>\n",
       "    </tr>\n",
       "    <tr>\n",
       "      <th>4</th>\n",
       "      <td>Churn</td>\n",
       "      <td>00016299-c3d4-44aa-85b9-2903e3e577bf-ws</td>\n",
       "      <td>2</td>\n",
       "      <td>25.0</td>\n",
       "      <td>681593</td>\n",
       "      <td>Только вам -25% на косметику для ресниц до 25....</td>\n",
       "      <td>G1063</td>\n",
       "      <td>ДЕКОР</td>\n",
       "      <td>[декоративная косметика]</td>\n",
       "      <td>0</td>\n",
       "    </tr>\n",
       "    <tr>\n",
       "      <th>...</th>\n",
       "      <td>...</td>\n",
       "      <td>...</td>\n",
       "      <td>...</td>\n",
       "      <td>...</td>\n",
       "      <td>...</td>\n",
       "      <td>...</td>\n",
       "      <td>...</td>\n",
       "      <td>...</td>\n",
       "      <td>...</td>\n",
       "      <td>...</td>\n",
       "    </tr>\n",
       "    <tr>\n",
       "      <th>1084148</th>\n",
       "      <td>PTB</td>\n",
       "      <td>ffff5bc2-927e-4426-aae4-2eacbb66b99e-ws</td>\n",
       "      <td>2</td>\n",
       "      <td>30.0</td>\n",
       "      <td>681593</td>\n",
       "      <td>Для Вас скидка 30% на шампуни для волос по 2.1...</td>\n",
       "      <td>S11647</td>\n",
       "      <td>КРАСОТА</td>\n",
       "      <td>[уход за волосами]для волос</td>\n",
       "      <td>0</td>\n",
       "    </tr>\n",
       "    <tr>\n",
       "      <th>1084149</th>\n",
       "      <td>PTB</td>\n",
       "      <td>ffff5bc2-927e-4426-aae4-2eacbb66b99e-ws</td>\n",
       "      <td>2</td>\n",
       "      <td>40.0</td>\n",
       "      <td>681593</td>\n",
       "      <td>Для Вас 40% на прокладки по 26.01 (кроме товар...</td>\n",
       "      <td>G1177</td>\n",
       "      <td>ЧИСТОТА</td>\n",
       "      <td>[средство гигиены]</td>\n",
       "      <td>0</td>\n",
       "    </tr>\n",
       "    <tr>\n",
       "      <th>1084150</th>\n",
       "      <td>PTB</td>\n",
       "      <td>ffffafff-3029-4e7b-a5a1-a92adf226eb2-ws</td>\n",
       "      <td>2</td>\n",
       "      <td>25.0</td>\n",
       "      <td>681593</td>\n",
       "      <td>Для Вас 25% на краски для волос по 14.11. Кром...</td>\n",
       "      <td>C020</td>\n",
       "      <td>КРАСОТА</td>\n",
       "      <td>для окраски волос</td>\n",
       "      <td>0</td>\n",
       "    </tr>\n",
       "    <tr>\n",
       "      <th>1084151</th>\n",
       "      <td>PTB</td>\n",
       "      <td>ffffc42c-ce8c-4fd9-b605-fe997bdc3707-ws</td>\n",
       "      <td>2</td>\n",
       "      <td>40.0</td>\n",
       "      <td>681593</td>\n",
       "      <td>Ваша СКИДКА 40% на декор. косметику по 12.02,к...</td>\n",
       "      <td>C016</td>\n",
       "      <td>ДЕКОР</td>\n",
       "      <td>[декоративная косметика]</td>\n",
       "      <td>0</td>\n",
       "    </tr>\n",
       "    <tr>\n",
       "      <th>1084152</th>\n",
       "      <td>PTB</td>\n",
       "      <td>ffffde29-7d94-4f5e-96e4-e1eb3260a3ef-ws</td>\n",
       "      <td>2</td>\n",
       "      <td>25.0</td>\n",
       "      <td>681593</td>\n",
       "      <td>Для Вас СКИДКА 25% на уход за обувью по 12.10....</td>\n",
       "      <td>C019</td>\n",
       "      <td>ЧИСТОТА</td>\n",
       "      <td>для обуви</td>\n",
       "      <td>0</td>\n",
       "    </tr>\n",
       "  </tbody>\n",
       "</table>\n",
       "<p>1084153 rows × 10 columns</p>\n",
       "</div>"
      ],
      "text/plain": [
       "        campaign_type                              customer_id  \\\n",
       "0               Churn  00003187-2797-47f5-9ff1-5c2a3770c03c-ws   \n",
       "1               Churn  0000431c-4744-4c82-bdca-0859de61566c-ws   \n",
       "2               Churn  0000e13f-2e0e-43d4-88da-545e1685eff9-ws   \n",
       "3               Churn  0000e13f-2e0e-43d4-88da-545e1685eff9-ws   \n",
       "4               Churn  00016299-c3d4-44aa-85b9-2903e3e577bf-ws   \n",
       "...               ...                                      ...   \n",
       "1084148           PTB  ffff5bc2-927e-4426-aae4-2eacbb66b99e-ws   \n",
       "1084149           PTB  ffff5bc2-927e-4426-aae4-2eacbb66b99e-ws   \n",
       "1084150           PTB  ffffafff-3029-4e7b-a5a1-a92adf226eb2-ws   \n",
       "1084151           PTB  ffffc42c-ce8c-4fd9-b605-fe997bdc3707-ws   \n",
       "1084152           PTB  ffffde29-7d94-4f5e-96e4-e1eb3260a3ef-ws   \n",
       "\n",
       "         discount_type1  discount_amt  promo_id  \\\n",
       "0                     2          30.0    681593   \n",
       "1                     2          30.0    681593   \n",
       "2                     2          25.0    681593   \n",
       "3                     2          35.0    681593   \n",
       "4                     2          25.0    681593   \n",
       "...                 ...           ...       ...   \n",
       "1084148               2          30.0    681593   \n",
       "1084149               2          40.0    681593   \n",
       "1084150               2          25.0    681593   \n",
       "1084151               2          40.0    681593   \n",
       "1084152               2          25.0    681593   \n",
       "\n",
       "                                                  msg_text   item2  \\\n",
       "0        Только вам -30% на бальзамы для волос до 6.03!...  S10534   \n",
       "1        Только вам -30% на бальзамы для волос до 26.11...  S10534   \n",
       "2        Только вам -25% на зубные щетки до 6.03! Улыбк...   G1213   \n",
       "3        Только вам -35% на средства для ногтей до 21.0...   G1062   \n",
       "4        Только вам -25% на косметику для ресниц до 25....   G1063   \n",
       "...                                                    ...     ...   \n",
       "1084148  Для Вас скидка 30% на шампуни для волос по 2.1...  S11647   \n",
       "1084149  Для Вас 40% на прокладки по 26.01 (кроме товар...   G1177   \n",
       "1084150  Для Вас 25% на краски для волос по 14.11. Кром...    C020   \n",
       "1084151  Ваша СКИДКА 40% на декор. косметику по 12.02,к...    C016   \n",
       "1084152  Для Вас СКИДКА 25% на уход за обувью по 12.10....    C019   \n",
       "\n",
       "        product_direction_name                category_name  conversion  \n",
       "0                      КРАСОТА  [уход за волосами]для волос           0  \n",
       "1                      КРАСОТА  [уход за волосами]для волос           0  \n",
       "2                      ЧИСТОТА       [уход за полостью рта]           0  \n",
       "3                        ДЕКОР     [декоративная косметика]           0  \n",
       "4                        ДЕКОР     [декоративная косметика]           0  \n",
       "...                        ...                          ...         ...  \n",
       "1084148                КРАСОТА  [уход за волосами]для волос           0  \n",
       "1084149                ЧИСТОТА           [средство гигиены]           0  \n",
       "1084150                КРАСОТА            для окраски волос           0  \n",
       "1084151                  ДЕКОР     [декоративная косметика]           0  \n",
       "1084152                ЧИСТОТА                    для обуви           0  \n",
       "\n",
       "[1084153 rows x 10 columns]"
      ]
     },
     "execution_count": 23,
     "metadata": {},
     "output_type": "execute_result"
    }
   ],
   "source": [
    "pers_full"
   ]
  },
  {
   "cell_type": "code",
   "execution_count": 51,
   "metadata": {},
   "outputs": [
    {
     "data": {
      "text/plain": [
       "category_name                discount_amt\n",
       "[бритье]                     20.0             3.448022\n",
       "[декоративная косметика]     15.0             5.408207\n",
       "                             20.0             5.166300\n",
       "                             25.0             2.706562\n",
       "                             30.0             2.551585\n",
       "                             35.0             1.894626\n",
       "                             40.0             6.467002\n",
       "[депиляция]                  30.0             1.247401\n",
       "[для стирки и белья]         25.0             0.000000\n",
       "                             30.0             0.000000\n",
       "                             35.0             3.795946\n",
       "                             40.0             4.890589\n",
       "[колготки]                   25.0             2.866163\n",
       "[парфюмерия массмаркет]      30.0             3.508772\n",
       "[средство гигиены]           30.0             5.990410\n",
       "                             40.0             8.804846\n",
       "[товары для душа и ванны]    25.0             1.517031\n",
       "                             30.0             5.392787\n",
       "                             35.0             7.466667\n",
       "[уход за волосами]для волос  25.0             0.257400\n",
       "                             30.0             2.689837\n",
       "                             40.0             3.785489\n",
       "[уход за лицом]для лица      25.0             3.818477\n",
       "[уход за полостью рта]       25.0             3.015870\n",
       "                             30.0             5.369838\n",
       "                             40.0             5.801527\n",
       "[уход за руками]для рук      25.0             1.572282\n",
       "[уход за телом]              25.0             1.419355\n",
       "[хозтовары]                  40.0             3.849526\n",
       "бум[ажные изделия]           30.0             6.770833\n",
       "                             35.0            21.273210\n",
       "                             40.0            15.037030\n",
       "дезодорант                   25.0             4.214923\n",
       "                             40.0             3.846154\n",
       "для [укладки] волос          25.0             4.368899\n",
       "                             30.0             3.476700\n",
       "                             40.0             6.106597\n",
       "для детей                    25.0             4.777070\n",
       "                             30.0             4.238619\n",
       "для обуви                    25.0             1.933677\n",
       "для окраски волос            25.0             6.425010\n",
       "                             40.0             7.142857\n",
       "мыло                         35.0             6.316244\n",
       "освеж[итель] воздуха         25.0             4.645323\n",
       "                             40.0             2.488856\n",
       "чист[ящее] средство          25.0             3.149076\n",
       "                             30.0             2.247645\n",
       "                             35.0             5.479452\n",
       "                             40.0             4.285867\n",
       "Name: conversion, dtype: float64"
      ]
     },
     "execution_count": 51,
     "metadata": {},
     "output_type": "execute_result"
    }
   ],
   "source": [
    "pers_full.groupby(['category_name', 'discount_amt'])['conversion'].mean()*100"
   ]
  },
  {
   "cell_type": "code",
   "execution_count": 50,
   "metadata": {},
   "outputs": [
    {
     "data": {
      "image/png": "[encoded data removed]",
      "text/plain": [
       "<Figure size 960x720 with 1 Axes>"
      ]
     },
     "metadata": {
      "needs_background": "light"
     },
     "output_type": "display_data"
    }
   ],
   "source": [
    "df = (pers_full.groupby('category_name')['conversion'].mean()*100).reset_index(name='conversion')\n",
    "text = df['category_name']\n",
    "plt.figure(figsize=(12, 9), dpi= 80)\n",
    "plt.bar(text, df['conversion'],width=.5, color = 'powderblue', edgecolor='black' )\n",
    "for i, value in enumerate(df2['conversion'].values):\n",
    "    plt.text(i, value, round(float(value), 3), horizontalalignment='center', verticalalignment='bottom', fontdict={'fontweight':500, 'size':12})\n",
    "plt.gca().set_xticklabels(text, rotation=60, horizontalalignment= 'right',fontdict={'fontweight':500, 'size':13} )\n",
    "plt.ylabel('Конверсия (%) ', fontsize=13)\n",
    "plt.show()"
   ]
  },
  {
   "cell_type": "markdown",
   "metadata": {},
   "source": [
    "## С текстом сообщения"
   ]
  },
  {
   "cell_type": "code",
   "execution_count": 52,
   "metadata": {},
   "outputs": [
    {
     "name": "stdout",
     "output_type": "stream",
     "text": [
      "Database opened successfully\n"
     ]
    }
   ],
   "source": [
    "connection, cursor = db.connect_db()\n",
    "cursor.execute('''\n",
    "SELECT\n",
    "    t1.campaign_type,\n",
    "    t1.customer_id,\n",
    "    t1.discount_type1,\n",
    "    t1.discount_amt,\n",
    "    t1.promo_id,\n",
    "    t1.msg_text,\n",
    "    t1.item2,\n",
    "    products.product_direction_name,\n",
    "    products.category_name,    \n",
    "    t1.con\n",
    "FROM\n",
    "    (SELECT\n",
    "        pers_offer.campaign_type,\n",
    "        pers_offer.offer_start_dt,\n",
    "        pers_offer.offer_end_dt,\n",
    "        pers_offer.customer_id,\n",
    "        pers_offer.discount_type1,\n",
    "        pers_offer.discount_amt,\n",
    "        pers_offer.promo_id,\n",
    "        substring(msg_text, '^[\\w\"%]*\\s[\\w!%-]*\\s[^\\wскидка|^\\wСКИДКА]*') msg_text,\n",
    "        substring(pers_offer.item2, '^\\w\\d+') item2,\n",
    "        CASE\n",
    "            WHEN\n",
    "                billspromo.check_id LIKE '%'\n",
    "            THEN\n",
    "                1\n",
    "            ELSE\n",
    "                0\n",
    "            END con\n",
    "\n",
    "    FROM pers_offer LEFT JOIN (SELECT\n",
    "                        billspromo.check_id,\n",
    "                        billspromo.check_date,\n",
    "                        billspromo.customer_id,\n",
    "                        billspromo.promo_id\n",
    "                    FROM\n",
    "                        billspromo\n",
    "                    GROUP BY 1,2,3,4) billspromo\n",
    "                    ON (billspromo.promo_id = pers_offer.promo_id \n",
    "                    AND billspromo.customer_id = pers_offer.customer_id \n",
    "                    AND billspromo.check_date BETWEEN pers_offer.offer_start_dt \n",
    "                    AND pers_offer.offer_end_dt)\n",
    "        WHERE pers_offer.campaign_type = 'PTB' \n",
    "        OR pers_offer.campaign_type = 'MBA' \n",
    "        OR pers_offer.campaign_type = 'Churn'\n",
    "        GROUP BY 1,2,3,4,5,6,7,8,9,10\n",
    ") t1 INNER JOIN (SELECT\n",
    "                    products.category_cd,\n",
    "                    products.group_cd,\n",
    "                    products.subgroup_cd,\n",
    "                    products.product_direction_name,\n",
    "                    products.category_name\n",
    "                FROM products) products\n",
    "                ON (t1.item2 = products.category_cd OR\n",
    "                    t1.item2 = products.group_cd OR\n",
    "                    t1.item2 = products.subgroup_cd)\n",
    "GROUP BY 1,2,3,4,5,6,7,8,9,10\n",
    "''')\n",
    "result = cursor.fetchall()\n",
    "db.close_connection(connection, cursor)\n",
    "pers_full2 = pd.DataFrame(result, columns = ['campaign_type',\n",
    "                                            'customer_id',\n",
    "                                            'discount_type1',\n",
    "                                            'discount_amt',\n",
    "                                            'promo_id',\n",
    "                                            'msg_text',\n",
    "                                            'item2',\n",
    "                                            'product_direction_name',\n",
    "                                            'category_name',\n",
    "                                            'conversion'])"
   ]
  },
  {
   "cell_type": "code",
   "execution_count": 54,
   "metadata": {},
   "outputs": [],
   "source": [
    "pers_full2.to_csv('pers_full2.csv',sep=';',index=True, header=True)"
   ]
  },
  {
   "cell_type": "code",
   "execution_count": 15,
   "metadata": {},
   "outputs": [],
   "source": [
    "pers_full2 = pd.read_csv('./pers_full2.csv',sep=';')"
   ]
  },
  {
   "cell_type": "code",
   "execution_count": 22,
   "metadata": {},
   "outputs": [
    {
     "data": {
      "image/png": "[encoded data removed]",
      "text/plain": [
       "<Figure size 960x720 with 1 Axes>"
      ]
     },
     "metadata": {
      "needs_background": "light"
     },
     "output_type": "display_data"
    }
   ],
   "source": [
    "df = (pers_full2.groupby('msg_text').mean()['conversion']*100).reset_index(name='conversion')\n",
    "text = df['msg_text']\n",
    "plt.figure(figsize=(12, 9), dpi= 80)\n",
    "plt.bar(text, df['conversion'],width=.5, color = 'seagreen', edgecolor='black' )\n",
    "for i, value in enumerate(df2['conversion'].values):\n",
    "    plt.text(i, value, round(float(value), 3), horizontalalignment='center', verticalalignment='bottom', fontdict={'fontweight':500, 'size':12})\n",
    "plt.gca().set_xticklabels(text, rotation=60, horizontalalignment= 'right',fontdict={'fontweight':500, 'size':13} )\n",
    "plt.ylabel('Конверсия (%) ', fontsize=13)\n",
    "plt.show()"
   ]
  },
  {
   "cell_type": "code",
   "execution_count": 57,
   "metadata": {},
   "outputs": [
    {
     "data": {
      "text/plain": [
       "product_direction_name  discount_amt  msg_text                \n",
       "ДЕКОР                   15.0          Для Вас                      5.408207\n",
       "                        20.0          Для Вас                      5.248078\n",
       "                        25.0          Только вам -                 3.492320\n",
       "                        30.0          Только Вам                   3.508772\n",
       "                                      Только вам -                 3.304821\n",
       "                        35.0          Только вам -                 2.480761\n",
       "                        40.0          Ваша СКИДКА                  7.210211\n",
       "КРАСОТА                 20.0          Ваша СКИДКА                  3.764822\n",
       "                                      Для Вас                      4.499408\n",
       "                                      Только вам -                 3.480142\n",
       "                        25.0          \"Только вам -                2.196053\n",
       "                                      25% на                       0.573066\n",
       "                                      ВЕРНЕМ 25%                   0.343053\n",
       "                                      Всегда прекрасна!Скидка      6.409855\n",
       "                                      Для Вас                      4.989582\n",
       "                                      Не упустите -                1.900183\n",
       "                                      СКИДКА 25%                   1.488095\n",
       "                                      Только вам -                 5.439457\n",
       "                        30.0          30% на                       1.449275\n",
       "                                      ВЕРНЕМ 30%                   2.770652\n",
       "                                      Для ВАС                      1.609658\n",
       "                                      Для Вас                      4.788803\n",
       "                                      Не упустите -                4.238619\n",
       "                                      СКИДКА 30%                   2.125693\n",
       "                                      Только вам -                 3.406589\n",
       "                        35.0          Только Вам -                 6.737818\n",
       "                        40.0          40% на                       3.900709\n",
       "                                      Для Вас                      6.106597\n",
       "ЧИСТОТА                 25.0          25% на                       1.185771\n",
       "                                      ВЕРНЕМ 25%                   1.477833\n",
       "                                      Для Вас                      3.385889\n",
       "                                      СКИДКА 25%                   1.561524\n",
       "                                      Только вам -                 3.590341\n",
       "                        30.0          30% на                       0.000000\n",
       "                                      ВЕРНЕМ 30%                   0.000000\n",
       "                                      Для Вас                      7.311522\n",
       "                                      Не упустите -                5.534125\n",
       "                                      СКИДКА 30%                   2.403846\n",
       "                                      Только Вам -                 6.660255\n",
       "                                      Только вам -                 4.988920\n",
       "                        35.0          35% на                       0.000000\n",
       "                                      ВЕРНЕМ 35%                   0.000000\n",
       "                                      Для Вас-35%                  2.095238\n",
       "                                      СКИДКА 35%                   0.000000\n",
       "                                      Только Вам -                 7.842349\n",
       "                                      Только вам -                 1.186521\n",
       "                        40.0          40% на                       3.149606\n",
       "                                      Для Вас                      6.888088\n",
       "                                      Для Вас -                    4.183579\n",
       "                                      Для вас                      3.030303\n",
       "                                      СКИДКА 40%                   0.704225\n",
       "                                      Только Вам -                15.750330\n",
       "                                      Только вам -                 5.377601\n",
       "Name: conversion, dtype: float64"
      ]
     },
     "execution_count": 57,
     "metadata": {},
     "output_type": "execute_result"
    }
   ],
   "source": [
    "pers_full2.groupby(['product_direction_name', 'discount_amt', 'msg_text',])['conversion'].mean()*100"
   ]
  },
  {
   "cell_type": "markdown",
   "metadata": {},
   "source": [
    "# ВЛИЯНИЕ ПЕРИОДА АКЦИИ"
   ]
  },
  {
   "cell_type": "code",
   "execution_count": 60,
   "metadata": {},
   "outputs": [
    {
     "name": "stdout",
     "output_type": "stream",
     "text": [
      "Database opened successfully\n"
     ]
    }
   ],
   "source": [
    "connection, cursor = db.connect_db()\n",
    "cursor.execute('''\n",
    "SELECT\n",
    "    t1.customer_id,\n",
    "    t1.CAMPAIGN_TYPE,\n",
    "    t1.discount_type1,\n",
    "    t1.discount_amt,\n",
    "    t1.period,\n",
    "    t1.msg_text,\n",
    "    t1.con,\n",
    "    t2.segment\n",
    "FROM \n",
    "    (SELECT \n",
    "        pers_offer.customer_id,\n",
    "        pers_offer.CAMPAIGN_TYPE,\n",
    "        pers_offer.discount_type1,\n",
    "        pers_offer.discount_amt,\n",
    "        (pers_offer.offer_end_dt - pers_offer.offer_start_dt) period,\n",
    "        substring(msg_text, '^[\\w\"%]*\\s[\\w!%-]*\\s[^\\wскидка|^\\wСКИДКА]*') msg_text,\n",
    "        CASE\n",
    "            WHEN\n",
    "                billspromo.check_id LIKE '%'\n",
    "            THEN\n",
    "                1\n",
    "            ELSE\n",
    "                0\n",
    "            END con\n",
    "    FROM pers_offer LEFT JOIN (SELECT\n",
    "                                billspromo.check_id,\n",
    "                                billspromo.check_date,\n",
    "                                billspromo.customer_id,\n",
    "                                billspromo.promo_id\n",
    "                            FROM\n",
    "                                billspromo\n",
    "                            GROUP BY 1,2,3,4) billspromo\n",
    "                            ON (billspromo.promo_id = pers_offer.promo_id \n",
    "                            AND billspromo.customer_id = pers_offer.customer_id \n",
    "                            AND billspromo.check_date BETWEEN pers_offer.offer_start_dt \n",
    "                                                          AND pers_offer.offer_end_dt)\n",
    "    ) t1 LEFT JOIN (SELECT\n",
    "                        clients_RFM.customer_id,\n",
    "                        clients_RFM.Segment\n",
    "                    FROM\n",
    "                       clients_RFM ) t2\n",
    "                    ON (t2.customer_id = t1.customer_id)\n",
    "\n",
    "GROUP BY 1,2,3,4,5,6,7,8\n",
    "''')\n",
    "result = cursor.fetchall()\n",
    "db.close_connection(connection, cursor)\n",
    "period = pd.DataFrame(result, columns = ['customer_id',\n",
    "                                         'CAMPAIGN_TYPE',\n",
    "                                         'discount_type1',\n",
    "                                         'discount_amt',\n",
    "                                         'period',\n",
    "                                        'msg_text',\n",
    "                                        'conversion',\n",
    "                                        'segment'])"
   ]
  },
  {
   "cell_type": "code",
   "execution_count": 76,
   "metadata": {},
   "outputs": [
    {
     "data": {
      "image/png": "[encoded data removed]",
      "text/plain": [
       "<Figure size 800x560 with 1 Axes>"
      ]
     },
     "metadata": {
      "needs_background": "light"
     },
     "output_type": "display_data"
    }
   ],
   "source": [
    "df = (period.groupby('period').mean()['conversion']*100).reset_index(name='conversion')\n",
    "text = df['period']\n",
    "plt.figure(figsize=(10, 7), dpi= 80)\n",
    "plt.bar(text, df2['conversion'],width=.5, color = 'pink', edgecolor='black' )\n",
    "plt.ylabel('Конверсия (%) ', fontsize=13)\n",
    "plt.xlabel('Период проведения акции (дни)', fontsize=13)\n",
    "plt.show()"
   ]
  },
  {
   "cell_type": "code",
   "execution_count": 77,
   "metadata": {},
   "outputs": [
    {
     "data": {
      "text/plain": [
       "F_onewayResult(statistic=412.11156680905907, pvalue=0.0)"
      ]
     },
     "execution_count": 77,
     "metadata": {},
     "output_type": "execute_result"
    }
   ],
   "source": [
    "per = period['period'].unique()\n",
    "stats.f_oneway(*(period[period['period'] == i]['conversion'] for i in per))"
   ]
  },
  {
   "cell_type": "markdown",
   "metadata": {},
   "source": [
    "## Добавление фильтров для клиентов"
   ]
  },
  {
   "cell_type": "code",
   "execution_count": null,
   "metadata": {},
   "outputs": [],
   "source": [
    "connection, cursor = db.connect_db()\n",
    "cursor.execute('''\n",
    "SELECT\n",
    "    check_id,\n",
    "    check_date,\n",
    "    customer_id, \n",
    "    EXTRACT (DOW FROM check_date) check_dow\n",
    "FROM bills\n",
    "GROUP BY 1,2,3,4\n",
    "''')\n",
    "result = cursor.fetchall()\n",
    "db.close_connection(connection, cursor)\n",
    "clients_days = pd.DataFrame(result, columns = ['check_id',\n",
    "                                               'check_date',\n",
    "                                               'customer_id',\n",
    "                                               'check_dow'])"
   ]
  },
  {
   "cell_type": "code",
   "execution_count": 82,
   "metadata": {},
   "outputs": [
    {
     "name": "stdout",
     "output_type": "stream",
     "text": [
      "Database opened successfully\n"
     ]
    }
   ],
   "source": [
    "connection, cursor = db.connect_db()\n",
    "cursor.execute('''\n",
    "SELECT\n",
    "    customer_id,\n",
    "    recency,\n",
    "    frequency,\n",
    "    monetary,\n",
    "    RecencyCluster,\n",
    "    FrequencyCluster,\n",
    "    MonetaryCluster,\n",
    "    OverallScore,\n",
    "    Segment\n",
    "FROM clients_RFM\n",
    "''')\n",
    "result = cursor.fetchall()\n",
    "db.close_connection(connection, cursor)\n",
    "clients_RFM = pd.DataFrame(result, columns=['customer_id',\n",
    "                                            'recency' ,\n",
    "                                            'frequency',\n",
    "                                            'monetary',\n",
    "                                            'RecencyCluster' ,\n",
    "                                            'FrequencyCluster' ,\n",
    "                                            'MonetaryCluster' ,\n",
    "                                            'OverallScore' ,\n",
    "                                            'Segment'])"
   ]
  },
  {
   "cell_type": "code",
   "execution_count": 85,
   "metadata": {},
   "outputs": [],
   "source": [
    "clients_RFM = pd.merge(left = clients_RFM.set_index('customer_id'), right = clients_days[['customer_id', 'check_dow']].groupby('customer_id').agg(pd.Series.mode), how = 'left', left_index = True, right_index = True).reset_index()\n",
    "clients_RFM.rename(columns=lambda x: x.replace('check_dow', 'most_common_dow'), inplace=True)"
   ]
  },
  {
   "cell_type": "code",
   "execution_count": 125,
   "metadata": {},
   "outputs": [
    {
     "name": "stderr",
     "output_type": "stream",
     "text": [
      "/Library/Frameworks/Python.framework/Versions/3.7/lib/python3.7/site-packages/ipykernel_launcher.py:19: SettingWithCopyWarning: \n",
      "A value is trying to be set on a copy of a slice from a DataFrame\n",
      "\n",
      "See the caveats in the documentation: http://pandas.pydata.org/pandas-docs/stable/user_guide/indexing.html#returning-a-view-versus-a-copy\n",
      "/Library/Frameworks/Python.framework/Versions/3.7/lib/python3.7/site-packages/ipykernel_launcher.py:17: SettingWithCopyWarning: \n",
      "A value is trying to be set on a copy of a slice from a DataFrame\n",
      "\n",
      "See the caveats in the documentation: http://pandas.pydata.org/pandas-docs/stable/user_guide/indexing.html#returning-a-view-versus-a-copy\n",
      "/Library/Frameworks/Python.framework/Versions/3.7/lib/python3.7/site-packages/ipykernel_launcher.py:14: SettingWithCopyWarning: \n",
      "A value is trying to be set on a copy of a slice from a DataFrame\n",
      "\n",
      "See the caveats in the documentation: http://pandas.pydata.org/pandas-docs/stable/user_guide/indexing.html#returning-a-view-versus-a-copy\n",
      "  \n",
      "/Library/Frameworks/Python.framework/Versions/3.7/lib/python3.7/site-packages/ipykernel_launcher.py:12: SettingWithCopyWarning: \n",
      "A value is trying to be set on a copy of a slice from a DataFrame\n",
      "\n",
      "See the caveats in the documentation: http://pandas.pydata.org/pandas-docs/stable/user_guide/indexing.html#returning-a-view-versus-a-copy\n",
      "  if sys.path[0] == '':\n"
     ]
    }
   ],
   "source": [
    "clients_RFM['holiday_weekday'] = None\n",
    "# 1 - клиент выходного дня\n",
    "# 2  - клиент буднего дня\n",
    "for n, i in enumerate(clients_RFM['most_common_dow']):\n",
    "    if isinstance(i,np.ndarray):\n",
    "        holiday = list()\n",
    "        weekday = list()\n",
    "        for j in i:\n",
    "            if j ==0 or j == 6:\n",
    "                holiday.append(j)\n",
    "            else:\n",
    "                weekday.append(j)\n",
    "        if len(holiday) > len(weekday):\n",
    "            clients_RFM['holiday_weekday'][n]= 'ВЫХОДНОЙ'\n",
    "        else:\n",
    "            clients_RFM['holiday_weekday'][n]= 'БУДНИЙ'\n",
    "    else:\n",
    "        if i == 0 or i ==6:\n",
    "            clients_RFM['holiday_weekday'][n]= 'ВЫХОДНОЙ'\n",
    "        else:\n",
    "            clients_RFM['holiday_weekday'][n]= 'БУДНИЙ'\n",
    "\n"
   ]
  },
  {
   "cell_type": "code",
   "execution_count": 173,
   "metadata": {},
   "outputs": [
    {
     "name": "stdout",
     "output_type": "stream",
     "text": [
      "Database opened successfully\n"
     ]
    }
   ],
   "source": [
    "connection, cursor = db.connect_db()\n",
    "cursor.execute('''ALTER TABLE clients_RFM DROP COLUMN holiday_weekday  ;\n",
    "ALTER TABLE clients_RFM ADD COLUMN most_common_dow VARCHAR;\n",
    "ALTER TABLE clients_RFM ADD COLUMN holiday_weekday VARCHAR ''')\n",
    "\n",
    "db.close_connection(connection, cursor)"
   ]
  },
  {
   "cell_type": "code",
   "execution_count": 164,
   "metadata": {},
   "outputs": [],
   "source": [
    "clients_RFM.rename(columns = {'holiday/weekday':'holiday_weekday'}, inplace = True)"
   ]
  },
  {
   "cell_type": "code",
   "execution_count": 166,
   "metadata": {},
   "outputs": [],
   "source": [
    "clients_RFM.to_csv('./data/clients_RFM.csv',sep=';',index=False, header=True)"
   ]
  },
  {
   "cell_type": "code",
   "execution_count": 179,
   "metadata": {},
   "outputs": [],
   "source": [
    "clients_RFM = pd.read_csv('./data/clients_RFM.csv',sep=';')"
   ]
  },
  {
   "cell_type": "code",
   "execution_count": 176,
   "metadata": {},
   "outputs": [
    {
     "name": "stdout",
     "output_type": "stream",
     "text": [
      "Database opened successfully\n"
     ]
    }
   ],
   "source": [
    "#перезапись таблицы clients_RFM с добавлением информации о дне недели в БД\n",
    "connection, cursor = db.connect_db()\n",
    "cursor.execute('''\n",
    "DROP TABLE IF EXISTS clients_RFM;\n",
    "\n",
    "CREATE TABLE clients_RFM(\n",
    "\tcustomer_id VARCHAR,\n",
    "\trecency INT,\n",
    "\tfrequency INT,\n",
    "\tmonetary REAL,\n",
    "\tRecencyCluster INT,\n",
    "\tFrequencyCluster INT,\n",
    "\tMonetaryCluster INT,\n",
    "\tOverallScore INT,\n",
    "\tSegment VARCHAR,\n",
    "    most_common_dow VARCHAR,\n",
    "    holiday_weekday VARCHAR    \n",
    "    \n",
    ")\n",
    "''')\n",
    "with open('./data/clients_RFM.csv') as clients_RFM:\n",
    "    for line in clients_RFM:\n",
    "        cursor.copy_from(clients_RFM, 'clients_RFM', \n",
    "            columns=(\n",
    "                'customer_id',\n",
    "                'recency' ,\n",
    "                'frequency',\n",
    "                'monetary',\n",
    "                'RecencyCluster' ,\n",
    "                'FrequencyCluster' ,\n",
    "                'MonetaryCluster' ,\n",
    "                'OverallScore' ,\n",
    "                'Segment',\n",
    "                'most_common_dow',\n",
    "                'holiday_weekday'), sep=\";\", null='NULL')\n",
    "db.close_connection(connection, cursor)"
   ]
  },
  {
   "cell_type": "code",
   "execution_count": 182,
   "metadata": {},
   "outputs": [],
   "source": [
    "clients_RFM['holiday_weekday'].replace({'БУДНИЙ': 2, 'ВЫХОДНОЙ' : 1}, inplace = True)"
   ]
  },
  {
   "cell_type": "code",
   "execution_count": 184,
   "metadata": {},
   "outputs": [],
   "source": [
    "clients_RFM.rename(columns = {'holiday_weekday':'h-w_day'}, inplace = True)"
   ]
  },
  {
   "cell_type": "code",
   "execution_count": 194,
   "metadata": {},
   "outputs": [
    {
     "data": {
      "text/plain": [
       "23.751600266038224"
      ]
     },
     "execution_count": 194,
     "metadata": {},
     "output_type": "execute_result"
    }
   ],
   "source": [
    "#Клиенты выходного дня\n",
    "clients_RFM.groupby('h-w_day').size()[1] / clients_RFM.shape[0]*100"
   ]
  },
  {
   "cell_type": "code",
   "execution_count": 195,
   "metadata": {},
   "outputs": [
    {
     "data": {
      "text/plain": [
       "76.24839973396178"
      ]
     },
     "execution_count": 195,
     "metadata": {},
     "output_type": "execute_result"
    }
   ],
   "source": [
    "#Клиенты буднего дня\n",
    "clients_RFM.groupby('h-w_day').size()[2] / clients_RFM.shape[0]*100"
   ]
  },
  {
   "cell_type": "markdown",
   "metadata": {},
   "source": [
    "### Какую товарную группу покупает чаще каждый клиент?"
   ]
  },
  {
   "cell_type": "code",
   "execution_count": 198,
   "metadata": {},
   "outputs": [],
   "source": [
    "on = pd.merge(left = clients_RFM.set_index('customer_id'), right = pers_full2[['customer_id', 'product_direction_name']].groupby('customer_id').agg(pd.Series.mode), how = 'left', left_index = True, right_index = True).reset_index()\n",
    "#clients_RFM.rename(columns=lambda x: x.replace('check_dow', 'most_common_dow'), inplace=True)"
   ]
  },
  {
   "cell_type": "code",
   "execution_count": 202,
   "metadata": {},
   "outputs": [],
   "source": [
    "on = pd.merge(left = on.set_index('customer_id'), right = pers_full2[['customer_id', 'category_name']].groupby('customer_id').agg(pd.Series.mode), how = 'left', left_index = True, right_index = True).reset_index()\n",
    "#clients_RFM.rename(columns=lambda x: x.replace('check_dow', 'most_common_dow'), inplace=True)"
   ]
  },
  {
   "cell_type": "code",
   "execution_count": 224,
   "metadata": {},
   "outputs": [
    {
     "data": {
      "text/html": [
       "<div>\n",
       "<style scoped>\n",
       "    .dataframe tbody tr th:only-of-type {\n",
       "        vertical-align: middle;\n",
       "    }\n",
       "\n",
       "    .dataframe tbody tr th {\n",
       "        vertical-align: top;\n",
       "    }\n",
       "\n",
       "    .dataframe thead th {\n",
       "        text-align: right;\n",
       "    }\n",
       "</style>\n",
       "<table border=\"1\" class=\"dataframe\">\n",
       "  <thead>\n",
       "    <tr style=\"text-align: right;\">\n",
       "      <th></th>\n",
       "      <th>customer_id</th>\n",
       "      <th>recency</th>\n",
       "      <th>frequency</th>\n",
       "      <th>monetary</th>\n",
       "      <th>RecencyCluster</th>\n",
       "      <th>FrequencyCluster</th>\n",
       "      <th>MonetaryCluster</th>\n",
       "      <th>OverallScore</th>\n",
       "      <th>Segment</th>\n",
       "      <th>most_common_dow</th>\n",
       "      <th>h-w_day</th>\n",
       "      <th>product_direction_name</th>\n",
       "      <th>category_name</th>\n",
       "    </tr>\n",
       "  </thead>\n",
       "  <tbody>\n",
       "    <tr>\n",
       "      <th>0</th>\n",
       "      <td>000021d6-2d90-43ba-8a94-1e80f2f43846-ws</td>\n",
       "      <td>46</td>\n",
       "      <td>1</td>\n",
       "      <td>478.30000</td>\n",
       "      <td>2</td>\n",
       "      <td>0</td>\n",
       "      <td>1</td>\n",
       "      <td>3</td>\n",
       "      <td>В зоне риска</td>\n",
       "      <td>3.0</td>\n",
       "      <td>2</td>\n",
       "      <td>NaN</td>\n",
       "      <td>NaN</td>\n",
       "    </tr>\n",
       "    <tr>\n",
       "      <th>1</th>\n",
       "      <td>0004f1d2-b702-4244-bdbd-3b6b380ad64c-ws</td>\n",
       "      <td>42</td>\n",
       "      <td>10</td>\n",
       "      <td>349.40000</td>\n",
       "      <td>2</td>\n",
       "      <td>0</td>\n",
       "      <td>1</td>\n",
       "      <td>3</td>\n",
       "      <td>В зоне риска</td>\n",
       "      <td>0.0</td>\n",
       "      <td>1</td>\n",
       "      <td>КРАСОТА</td>\n",
       "      <td>[уход за волосами]для волос</td>\n",
       "    </tr>\n",
       "    <tr>\n",
       "      <th>2</th>\n",
       "      <td>00082c91-8f8a-4bd4-8603-1e9c69422280-ws</td>\n",
       "      <td>49</td>\n",
       "      <td>6</td>\n",
       "      <td>437.33334</td>\n",
       "      <td>2</td>\n",
       "      <td>0</td>\n",
       "      <td>1</td>\n",
       "      <td>3</td>\n",
       "      <td>В зоне риска</td>\n",
       "      <td>0.0</td>\n",
       "      <td>1</td>\n",
       "      <td>[КРАСОТА, ЧИСТОТА]</td>\n",
       "      <td>[для [укладки] волос, чист[ящее] средство]</td>\n",
       "    </tr>\n",
       "    <tr>\n",
       "      <th>3</th>\n",
       "      <td>000bb57b-9f05-4a60-85d4-9dc1f52120f9-ws</td>\n",
       "      <td>51</td>\n",
       "      <td>5</td>\n",
       "      <td>390.40000</td>\n",
       "      <td>2</td>\n",
       "      <td>0</td>\n",
       "      <td>1</td>\n",
       "      <td>3</td>\n",
       "      <td>В зоне риска</td>\n",
       "      <td>[1. 5. 6.]</td>\n",
       "      <td>2</td>\n",
       "      <td>[КРАСОТА, ЧИСТОТА]</td>\n",
       "      <td>[[уход за полостью рта], для детей]</td>\n",
       "    </tr>\n",
       "    <tr>\n",
       "      <th>4</th>\n",
       "      <td>000ce0e3-f3ab-4bc9-b7cd-3ecda9b2bf65-ws</td>\n",
       "      <td>30</td>\n",
       "      <td>4</td>\n",
       "      <td>431.50000</td>\n",
       "      <td>2</td>\n",
       "      <td>0</td>\n",
       "      <td>1</td>\n",
       "      <td>3</td>\n",
       "      <td>В зоне риска</td>\n",
       "      <td>5.0</td>\n",
       "      <td>2</td>\n",
       "      <td>КРАСОТА</td>\n",
       "      <td>[[средство гигиены], [товары для душа и ванны]...</td>\n",
       "    </tr>\n",
       "  </tbody>\n",
       "</table>\n",
       "</div>"
      ],
      "text/plain": [
       "                               customer_id  recency  frequency   monetary  \\\n",
       "0  000021d6-2d90-43ba-8a94-1e80f2f43846-ws       46          1  478.30000   \n",
       "1  0004f1d2-b702-4244-bdbd-3b6b380ad64c-ws       42         10  349.40000   \n",
       "2  00082c91-8f8a-4bd4-8603-1e9c69422280-ws       49          6  437.33334   \n",
       "3  000bb57b-9f05-4a60-85d4-9dc1f52120f9-ws       51          5  390.40000   \n",
       "4  000ce0e3-f3ab-4bc9-b7cd-3ecda9b2bf65-ws       30          4  431.50000   \n",
       "\n",
       "   RecencyCluster  FrequencyCluster  MonetaryCluster  OverallScore  \\\n",
       "0               2                 0                1             3   \n",
       "1               2                 0                1             3   \n",
       "2               2                 0                1             3   \n",
       "3               2                 0                1             3   \n",
       "4               2                 0                1             3   \n",
       "\n",
       "        Segment most_common_dow  h-w_day product_direction_name  \\\n",
       "0  В зоне риска             3.0        2                    NaN   \n",
       "1  В зоне риска             0.0        1                КРАСОТА   \n",
       "2  В зоне риска             0.0        1     [КРАСОТА, ЧИСТОТА]   \n",
       "3  В зоне риска      [1. 5. 6.]        2     [КРАСОТА, ЧИСТОТА]   \n",
       "4  В зоне риска             5.0        2                КРАСОТА   \n",
       "\n",
       "                                       category_name  \n",
       "0                                                NaN  \n",
       "1                        [уход за волосами]для волос  \n",
       "2         [для [укладки] волос, чист[ящее] средство]  \n",
       "3                [[уход за полостью рта], для детей]  \n",
       "4  [[средство гигиены], [товары для душа и ванны]...  "
      ]
     },
     "execution_count": 224,
     "metadata": {},
     "output_type": "execute_result"
    }
   ],
   "source": [
    "on.head()"
   ]
  },
  {
   "cell_type": "markdown",
   "metadata": {},
   "source": [
    "### В какие дни послеотправки смс приходят за покупкой?"
   ]
  },
  {
   "cell_type": "code",
   "execution_count": 289,
   "metadata": {},
   "outputs": [
    {
     "name": "stdout",
     "output_type": "stream",
     "text": [
      "Database opened successfully\n"
     ]
    }
   ],
   "source": [
    "connection, cursor = db.connect_db()\n",
    "cursor.execute('''\n",
    "SELECT\n",
    "    t1.campaign_type,\n",
    "    t1.offer_start_dt,\n",
    "    t1.offer_end_dt,\n",
    "    t1.offer_period,\n",
    "    t1.customer_id,\n",
    "    t1.discount_type1,\n",
    "    t1.promo_id,\n",
    "    t1.RESPONSE_DTTM,\n",
    "    t1.check_date,\n",
    "    t1.day_incomming,\n",
    "    t1.con,\n",
    "    clients_RFM.Segment\n",
    "FROM\n",
    "    (SELECT\n",
    "        pers_offer.campaign_type,\n",
    "        pers_offer.offer_start_dt,\n",
    "        pers_offer.offer_end_dt,\n",
    "        (pers_offer.offer_end_dt - pers_offer.offer_start_dt) offer_period,\n",
    "        pers_offer.customer_id,\n",
    "        pers_offer.discount_type1,\n",
    "        pers_offer.promo_id,\n",
    "        pers_offer.RESPONSE_DTTM,\n",
    "        billspromo.check_date,\n",
    "        (billspromo.check_date - DATE(pers_offer.RESPONSE_DTTM))day_incomming,\n",
    "        CASE\n",
    "            WHEN\n",
    "                billspromo.check_id LIKE '%'\n",
    "            THEN\n",
    "                1\n",
    "            ELSE\n",
    "                0\n",
    "            END con\n",
    "    FROM pers_offer INNER JOIN (SELECT\n",
    "                                billspromo.check_id,\n",
    "                                billspromo.check_date,\n",
    "                                billspromo.customer_id,\n",
    "                                billspromo.promo_id\n",
    "                            FROM\n",
    "                                billspromo\n",
    "                            GROUP BY 1,2,3,4) billspromo\n",
    "                            ON (billspromo.promo_id = pers_offer.promo_id \n",
    "                            AND billspromo.customer_id = pers_offer.customer_id \n",
    "                            AND billspromo.check_date BETWEEN pers_offer.offer_start_dt \n",
    "                    AND pers_offer.offer_end_dt)\n",
    "    WHERE pers_offer.campaign_type = 'MBA' OR\n",
    "          pers_offer.campaign_type = 'Churn' OR\n",
    "          pers_offer.campaign_type = 'PTB'\n",
    "    )t1  LEFT JOIN (SELECT\n",
    "                        clients_RFM.customer_id,\n",
    "                        clients_RFM.Segment\n",
    "                    FROM clients_RFM) clients_RFM\n",
    "                    ON t1.customer_id = clients_RFM.customer_id\n",
    "GROUP BY 1,2,3,4,5,6,7,8,9,10,11,12\n",
    "''')\n",
    "result = cursor.fetchall()\n",
    "db.close_connection(connection, cursor)\n",
    "income = pd.DataFrame(result, columns=['campaign_type',\n",
    "                                        'offer_start_dt',\n",
    "                                        'offer_end_dt',\n",
    "                                       'offer_period',\n",
    "                                        'customer_id',\n",
    "                                        'discount_type1',\n",
    "                                        'promo_id',\n",
    "                                       'RESPONSE_DTTM',\n",
    "                                       'check_date',\n",
    "                                        'day_incomming',\n",
    "                                        'conversion', \n",
    "                                      'Segment'])"
   ]
  },
  {
   "cell_type": "code",
   "execution_count": 315,
   "metadata": {},
   "outputs": [
    {
     "data": {
      "text/html": [
       "<div>\n",
       "<style scoped>\n",
       "    .dataframe tbody tr th:only-of-type {\n",
       "        vertical-align: middle;\n",
       "    }\n",
       "\n",
       "    .dataframe tbody tr th {\n",
       "        vertical-align: top;\n",
       "    }\n",
       "\n",
       "    .dataframe thead th {\n",
       "        text-align: right;\n",
       "    }\n",
       "</style>\n",
       "<table border=\"1\" class=\"dataframe\">\n",
       "  <thead>\n",
       "    <tr style=\"text-align: right;\">\n",
       "      <th></th>\n",
       "      <th>campaign_type</th>\n",
       "      <th>offer_start_dt</th>\n",
       "      <th>offer_end_dt</th>\n",
       "      <th>offer_period</th>\n",
       "      <th>customer_id</th>\n",
       "      <th>discount_type1</th>\n",
       "      <th>promo_id</th>\n",
       "      <th>RESPONSE_DTTM</th>\n",
       "      <th>check_date</th>\n",
       "      <th>day_incomming</th>\n",
       "      <th>conversion</th>\n",
       "      <th>Segment</th>\n",
       "    </tr>\n",
       "  </thead>\n",
       "  <tbody>\n",
       "    <tr>\n",
       "      <th>0</th>\n",
       "      <td>Churn</td>\n",
       "      <td>2019-09-06</td>\n",
       "      <td>2019-09-12</td>\n",
       "      <td>6</td>\n",
       "      <td>00226023-4821-4cd3-872e-6c6ff66113d1-ws</td>\n",
       "      <td>2</td>\n",
       "      <td>681593</td>\n",
       "      <td>2019-09-06 08:14:43.362776</td>\n",
       "      <td>2019-09-07</td>\n",
       "      <td>1</td>\n",
       "      <td>1</td>\n",
       "      <td>В зоне риска</td>\n",
       "    </tr>\n",
       "    <tr>\n",
       "      <th>1</th>\n",
       "      <td>Churn</td>\n",
       "      <td>2019-09-06</td>\n",
       "      <td>2019-09-12</td>\n",
       "      <td>6</td>\n",
       "      <td>0047cc4c-ddd0-48a4-8b43-2d8e1a7703d1-ws</td>\n",
       "      <td>2</td>\n",
       "      <td>681593</td>\n",
       "      <td>2019-09-06 08:08:39.309616</td>\n",
       "      <td>2019-09-07</td>\n",
       "      <td>1</td>\n",
       "      <td>1</td>\n",
       "      <td>Засыпающие</td>\n",
       "    </tr>\n",
       "    <tr>\n",
       "      <th>2</th>\n",
       "      <td>Churn</td>\n",
       "      <td>2019-09-06</td>\n",
       "      <td>2019-09-12</td>\n",
       "      <td>6</td>\n",
       "      <td>0049fc6d-a0ef-483f-bd43-38568221615b-ws</td>\n",
       "      <td>2</td>\n",
       "      <td>746541</td>\n",
       "      <td>2019-09-06 07:44:10.915685</td>\n",
       "      <td>2019-09-08</td>\n",
       "      <td>2</td>\n",
       "      <td>1</td>\n",
       "      <td>В зоне риска</td>\n",
       "    </tr>\n",
       "    <tr>\n",
       "      <th>3</th>\n",
       "      <td>Churn</td>\n",
       "      <td>2019-09-06</td>\n",
       "      <td>2019-09-12</td>\n",
       "      <td>6</td>\n",
       "      <td>00a9695b-7141-45b9-ba23-4a91d170cd90-ws</td>\n",
       "      <td>2</td>\n",
       "      <td>746541</td>\n",
       "      <td>2019-09-06 08:31:46.426530</td>\n",
       "      <td>2019-09-07</td>\n",
       "      <td>1</td>\n",
       "      <td>1</td>\n",
       "      <td>В зоне риска</td>\n",
       "    </tr>\n",
       "    <tr>\n",
       "      <th>4</th>\n",
       "      <td>Churn</td>\n",
       "      <td>2019-09-06</td>\n",
       "      <td>2019-09-12</td>\n",
       "      <td>6</td>\n",
       "      <td>00b93c9a-3d0f-4865-94ee-24a8508bd958-ws</td>\n",
       "      <td>2</td>\n",
       "      <td>746541</td>\n",
       "      <td>2019-09-06 08:31:46.662221</td>\n",
       "      <td>2019-09-11</td>\n",
       "      <td>5</td>\n",
       "      <td>1</td>\n",
       "      <td>В зоне риска</td>\n",
       "    </tr>\n",
       "  </tbody>\n",
       "</table>\n",
       "</div>"
      ],
      "text/plain": [
       "  campaign_type offer_start_dt offer_end_dt  offer_period  \\\n",
       "0         Churn     2019-09-06   2019-09-12             6   \n",
       "1         Churn     2019-09-06   2019-09-12             6   \n",
       "2         Churn     2019-09-06   2019-09-12             6   \n",
       "3         Churn     2019-09-06   2019-09-12             6   \n",
       "4         Churn     2019-09-06   2019-09-12             6   \n",
       "\n",
       "                               customer_id  discount_type1  promo_id  \\\n",
       "0  00226023-4821-4cd3-872e-6c6ff66113d1-ws               2    681593   \n",
       "1  0047cc4c-ddd0-48a4-8b43-2d8e1a7703d1-ws               2    681593   \n",
       "2  0049fc6d-a0ef-483f-bd43-38568221615b-ws               2    746541   \n",
       "3  00a9695b-7141-45b9-ba23-4a91d170cd90-ws               2    746541   \n",
       "4  00b93c9a-3d0f-4865-94ee-24a8508bd958-ws               2    746541   \n",
       "\n",
       "               RESPONSE_DTTM  check_date  day_incomming  conversion  \\\n",
       "0 2019-09-06 08:14:43.362776  2019-09-07              1           1   \n",
       "1 2019-09-06 08:08:39.309616  2019-09-07              1           1   \n",
       "2 2019-09-06 07:44:10.915685  2019-09-08              2           1   \n",
       "3 2019-09-06 08:31:46.426530  2019-09-07              1           1   \n",
       "4 2019-09-06 08:31:46.662221  2019-09-11              5           1   \n",
       "\n",
       "        Segment  \n",
       "0  В зоне риска  \n",
       "1    Засыпающие  \n",
       "2  В зоне риска  \n",
       "3  В зоне риска  \n",
       "4  В зоне риска  "
      ]
     },
     "execution_count": 315,
     "metadata": {},
     "output_type": "execute_result"
    }
   ],
   "source": [
    "income.head()"
   ]
  },
  {
   "cell_type": "code",
   "execution_count": 338,
   "metadata": {},
   "outputs": [
    {
     "data": {
      "image/png": "[encoded data removed]",
      "text/plain": [
       "<Figure size 360x360 with 1 Axes>"
      ]
     },
     "metadata": {},
     "output_type": "display_data"
    }
   ],
   "source": [
    "#сегменты клиентов, совершивших покупку до получения смс\n",
    "income.loc[income['day_incomming'] <0].groupby('Segment').size().plot.pie(figsize=(5, 5),fontsize=10,\n",
    "                                                                          colors = {'tab:olive','tab:gray', 'tab:pink', 'tab:cyan', 'tab:brown'},\n",
    "                                                                                  autopct='%1.1f%%')\n",
    "plt.ylabel('', fontsize=0)\n",
    "plt.show()"
   ]
  },
  {
   "cell_type": "code",
   "execution_count": 316,
   "metadata": {},
   "outputs": [
    {
     "data": {
      "text/plain": [
       "day_incomming\n",
       "-3       95\n",
       "-2      511\n",
       "-1     1171\n",
       " 0    13252\n",
       " 1    12402\n",
       " 2    10612\n",
       " 3     8844\n",
       " 4     7418\n",
       " 5     1536\n",
       " 6     1139\n",
       " 7       48\n",
       "dtype: int64"
      ]
     },
     "execution_count": 316,
     "metadata": {},
     "output_type": "execute_result"
    }
   ],
   "source": [
    "income.groupby('day_incomming').size()"
   ]
  },
  {
   "cell_type": "code",
   "execution_count": 291,
   "metadata": {},
   "outputs": [
    {
     "data": {
      "image/png": "[encoded data removed]",
      "text/plain": [
       "<Figure size 800x560 with 1 Axes>"
      ]
     },
     "metadata": {
      "needs_background": "light"
     },
     "output_type": "display_data"
    }
   ],
   "source": [
    "df = (income.groupby('day_incomming').size()).reset_index(name='count')\n",
    "text = df['day_incomming']\n",
    "plt.figure(figsize=(10, 7), dpi= 80)\n",
    "plt.bar(text, df2['count'],width=.5, color = 'lightcoral', edgecolor='black' )\n",
    "plt.ylabel('Количество чеков ', fontsize=13)\n",
    "plt.xlabel('День прихода', fontsize=13)\n",
    "plt.show()"
   ]
  },
  {
   "cell_type": "code",
   "execution_count": null,
   "metadata": {},
   "outputs": [],
   "source": []
  }
 ],
 "metadata": {
  "kernelspec": {
   "display_name": "Python 3",
   "language": "python",
   "name": "python3"
  },
  "language_info": {
   "codemirror_mode": {
    "name": "ipython",
    "version": 3
   },
   "file_extension": ".py",
   "mimetype": "text/x-python",
   "name": "python",
   "nbconvert_exporter": "python",
   "pygments_lexer": "ipython3",
   "version": "3.7.2"
  }
 },
 "nbformat": 4,
 "nbformat_minor": 4
}
